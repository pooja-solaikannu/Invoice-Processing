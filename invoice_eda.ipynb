{
 "cells": [
  {
   "cell_type": "markdown",
   "id": "cc3ec09a",
   "metadata": {},
   "source": [
    "## Imports"
   ]
  },
  {
   "cell_type": "code",
   "execution_count": 1,
   "id": "5d4cb9fa",
   "metadata": {},
   "outputs": [],
   "source": [
    "import pandas as pd\n",
    "import numpy as np\n",
    "\n",
    "import re\n",
    "from tqdm import tqdm\n",
    "from pprint import pprint\n",
    "\n",
    "import mlflow\n",
    "from mlflow import MlflowClient"
   ]
  },
  {
   "cell_type": "markdown",
   "id": "b384a36b",
   "metadata": {},
   "source": [
    "## Custom Notebook Settings"
   ]
  },
  {
   "cell_type": "code",
   "execution_count": 2,
   "id": "bf150985",
   "metadata": {},
   "outputs": [],
   "source": [
    "pd.set_option(\"display.max_columns\", 30)\n",
    "pd.set_option(\"display.max_rows\", 100)\n"
   ]
  },
  {
   "cell_type": "markdown",
   "id": "474e9686",
   "metadata": {},
   "source": [
    "## MLFlow Configuration (run only once)"
   ]
  },
  {
   "cell_type": "code",
   "execution_count": null,
   "id": "c1e30f3d",
   "metadata": {},
   "outputs": [],
   "source": [
    "client = MlflowClient(tracking_uri=\"http://127.0.0.1:8080\")"
   ]
  },
  {
   "cell_type": "code",
   "execution_count": null,
   "id": "9233fafc",
   "metadata": {},
   "outputs": [],
   "source": [
    "pprint(client.search_experiments())"
   ]
  },
  {
   "cell_type": "code",
   "execution_count": null,
   "id": "6c68a903",
   "metadata": {},
   "outputs": [],
   "source": [
    "all_experiments = client.search_experiments()"
   ]
  },
  {
   "cell_type": "code",
   "execution_count": null,
   "id": "7fa5bb5f",
   "metadata": {},
   "outputs": [],
   "source": [
    "default_experiment = [{\"name\": experiments.name, \"lifecycle_stage\": experiments.lifecycle_stage} for experiments in all_experiments if experiments.name == \"Default\"]"
   ]
  },
  {
   "cell_type": "code",
   "execution_count": null,
   "id": "6143766e",
   "metadata": {},
   "outputs": [],
   "source": [
    "# Provide an Experiment description that will appear in the UI\n",
    "experiment_description = (\n",
    "    \"Invoice Processing experiments - biller ref and payer ref\"\n",
    ")\n",
    "\n",
    "# Provide searchable tags that define characteristics of the Runs that\n",
    "# will be in this Experiment\n",
    "experiment_tags = {\n",
    "    \"project_name\": \"invoice-processing\",\n",
    "    \"store_dept\": \"\",\n",
    "    \"team\": \"\",\n",
    "    \"project_quarter\": \"Q3-2025\",\n",
    "    \"mlflow.note.content\": experiment_description,\n",
    "}\n"
   ]
  },
  {
   "cell_type": "code",
   "execution_count": null,
   "id": "0f8e1c0a",
   "metadata": {},
   "outputs": [],
   "source": [
    "invoice_experiments = client.create_experiment(\n",
    "    name=\"invoice-processing\",\n",
    "    tags=experiment_tags\n",
    ")"
   ]
  },
  {
   "cell_type": "markdown",
   "id": "d42ec697",
   "metadata": {},
   "source": [
    "## Global Variables"
   ]
  },
  {
   "cell_type": "code",
   "execution_count": 3,
   "id": "52d22970",
   "metadata": {},
   "outputs": [],
   "source": [
    "DATA_FOLDER_PATH = \"data\"\n",
    "DATA_FILE_PATH = \"data/invoice.csv\"\n",
    "COLUMNS_TO_FILTER = [\"billerDomain\", \"billerName\", \"billerReference\", \"billerCurrency\", \"billerAmount\", \n",
    "                    \"payerDomain\", \"payerName\", \"payerReference\", \"payerCurrency\", \"invoiceNumber\", \"invoiceAmount\",\n",
    "                    \"invoiceCurrency\", \"invoiceOwner\"]\n",
    "BILLER_REF_NAME_COLS = [\"billerReference\", \"billerName\"]\n",
    "PAYER_REF_NAME_COLS = [\"payerReference\", \"payerName\"]\n",
    "INVOICE_NUM_COLS = [\"billerName\", \"payerName\", \"invoiceNumber\"]\n"
   ]
  },
  {
   "cell_type": "markdown",
   "id": "365db0ff",
   "metadata": {},
   "source": [
    "## Load data"
   ]
  },
  {
   "cell_type": "code",
   "execution_count": 4,
   "id": "b88ec142",
   "metadata": {},
   "outputs": [
    {
     "name": "stderr",
     "output_type": "stream",
     "text": [
      "C:\\Users\\pooja\\AppData\\Local\\Temp\\ipykernel_16564\\542528348.py:1: DtypeWarning: Columns (26,27,28,42,61,64,73,75,76,78,83,85,87,89,90,91) have mixed types. Specify dtype option on import or set low_memory=False.\n",
      "  df = pd.read_csv(DATA_FILE_PATH)\n"
     ]
    }
   ],
   "source": [
    "df = pd.read_csv(DATA_FILE_PATH)"
   ]
  },
  {
   "cell_type": "code",
   "execution_count": 5,
   "id": "85fcd467",
   "metadata": {},
   "outputs": [
    {
     "data": {
      "text/plain": [
       "(177550, 93)"
      ]
     },
     "execution_count": 5,
     "metadata": {},
     "output_type": "execute_result"
    }
   ],
   "source": [
    "df.shape"
   ]
  },
  {
   "cell_type": "code",
   "execution_count": 6,
   "id": "7eb48938",
   "metadata": {},
   "outputs": [
    {
     "data": {
      "text/html": [
       "<div>\n",
       "<style scoped>\n",
       "    .dataframe tbody tr th:only-of-type {\n",
       "        vertical-align: middle;\n",
       "    }\n",
       "\n",
       "    .dataframe tbody tr th {\n",
       "        vertical-align: top;\n",
       "    }\n",
       "\n",
       "    .dataframe thead th {\n",
       "        text-align: right;\n",
       "    }\n",
       "</style>\n",
       "<table border=\"1\" class=\"dataframe\">\n",
       "  <thead>\n",
       "    <tr style=\"text-align: right;\">\n",
       "      <th></th>\n",
       "      <th>id</th>\n",
       "      <th>billerDomain</th>\n",
       "      <th>billerName</th>\n",
       "      <th>billerReference</th>\n",
       "      <th>billerCurrency</th>\n",
       "      <th>billerAmount</th>\n",
       "      <th>billerAmountNow</th>\n",
       "      <th>billerAmountLater</th>\n",
       "      <th>forwardExchangeAdjustment</th>\n",
       "      <th>payerDomain</th>\n",
       "      <th>payerName</th>\n",
       "      <th>payerReference</th>\n",
       "      <th>payerCurrency</th>\n",
       "      <th>payerAmount</th>\n",
       "      <th>payerAmountNow</th>\n",
       "      <th>...</th>\n",
       "      <th>awxTransferFeeCurrency</th>\n",
       "      <th>awxSourceCurrency</th>\n",
       "      <th>awxTransferFees</th>\n",
       "      <th>awxSourceAmount</th>\n",
       "      <th>discountedInvoiceAmount</th>\n",
       "      <th>applicant</th>\n",
       "      <th>employeeCode</th>\n",
       "      <th>clientCode</th>\n",
       "      <th>timeKeeper</th>\n",
       "      <th>matterCode</th>\n",
       "      <th>costCode</th>\n",
       "      <th>narrative</th>\n",
       "      <th>barCode</th>\n",
       "      <th>adminReference</th>\n",
       "      <th>lockedAmount</th>\n",
       "    </tr>\n",
       "  </thead>\n",
       "  <tbody>\n",
       "    <tr>\n",
       "      <th>0</th>\n",
       "      <td>1</td>\n",
       "      <td>accuprotm.com</td>\n",
       "      <td>Accupro Trademark Services Ltd</td>\n",
       "      <td>REF</td>\n",
       "      <td>CAD</td>\n",
       "      <td>371.4</td>\n",
       "      <td>371.4</td>\n",
       "      <td>371.4</td>\n",
       "      <td>0.005</td>\n",
       "      <td>griffithhack.com</td>\n",
       "      <td>Griffith Hack</td>\n",
       "      <td>REF</td>\n",
       "      <td>EUR</td>\n",
       "      <td>265.8036</td>\n",
       "      <td>265.8036</td>\n",
       "      <td>...</td>\n",
       "      <td>NaN</td>\n",
       "      <td>NaN</td>\n",
       "      <td>0.0</td>\n",
       "      <td>0.0</td>\n",
       "      <td>0.0</td>\n",
       "      <td>NaN</td>\n",
       "      <td>NaN</td>\n",
       "      <td>NaN</td>\n",
       "      <td>NaN</td>\n",
       "      <td>NaN</td>\n",
       "      <td>NaN</td>\n",
       "      <td>NaN</td>\n",
       "      <td>NaN</td>\n",
       "      <td>NaN</td>\n",
       "      <td>0.0</td>\n",
       "    </tr>\n",
       "    <tr>\n",
       "      <th>1</th>\n",
       "      <td>2</td>\n",
       "      <td>accuprotm.com</td>\n",
       "      <td>Accupro Trademark Services Ltd</td>\n",
       "      <td>REF</td>\n",
       "      <td>CAD</td>\n",
       "      <td>456.5</td>\n",
       "      <td>456.5</td>\n",
       "      <td>456.5</td>\n",
       "      <td>0.005</td>\n",
       "      <td>griffithhack.com</td>\n",
       "      <td>Griffith Hack</td>\n",
       "      <td>REF</td>\n",
       "      <td>EUR</td>\n",
       "      <td>326.7079</td>\n",
       "      <td>326.7079</td>\n",
       "      <td>...</td>\n",
       "      <td>NaN</td>\n",
       "      <td>NaN</td>\n",
       "      <td>NaN</td>\n",
       "      <td>NaN</td>\n",
       "      <td>NaN</td>\n",
       "      <td>NaN</td>\n",
       "      <td>NaN</td>\n",
       "      <td>NaN</td>\n",
       "      <td>NaN</td>\n",
       "      <td>NaN</td>\n",
       "      <td>NaN</td>\n",
       "      <td>NaN</td>\n",
       "      <td>NaN</td>\n",
       "      <td>NaN</td>\n",
       "      <td>0.0</td>\n",
       "    </tr>\n",
       "    <tr>\n",
       "      <th>2</th>\n",
       "      <td>3</td>\n",
       "      <td>airdmcburney.com</td>\n",
       "      <td>Aird &amp; McBurney LP</td>\n",
       "      <td>REF</td>\n",
       "      <td>CAD</td>\n",
       "      <td>475.0</td>\n",
       "      <td>475.0</td>\n",
       "      <td>475.0</td>\n",
       "      <td>0.005</td>\n",
       "      <td>griffithhack.com</td>\n",
       "      <td>Griffith Hack</td>\n",
       "      <td>REF</td>\n",
       "      <td>EUR</td>\n",
       "      <td>339.9480</td>\n",
       "      <td>339.9480</td>\n",
       "      <td>...</td>\n",
       "      <td>NaN</td>\n",
       "      <td>NaN</td>\n",
       "      <td>NaN</td>\n",
       "      <td>NaN</td>\n",
       "      <td>NaN</td>\n",
       "      <td>NaN</td>\n",
       "      <td>NaN</td>\n",
       "      <td>NaN</td>\n",
       "      <td>NaN</td>\n",
       "      <td>NaN</td>\n",
       "      <td>NaN</td>\n",
       "      <td>NaN</td>\n",
       "      <td>NaN</td>\n",
       "      <td>NaN</td>\n",
       "      <td>0.0</td>\n",
       "    </tr>\n",
       "    <tr>\n",
       "      <th>3</th>\n",
       "      <td>4</td>\n",
       "      <td>airdmcburney.com</td>\n",
       "      <td>Aird &amp; McBurney LP</td>\n",
       "      <td>REF</td>\n",
       "      <td>CAD</td>\n",
       "      <td>425.0</td>\n",
       "      <td>425.0</td>\n",
       "      <td>425.0</td>\n",
       "      <td>0.005</td>\n",
       "      <td>griffithhack.com</td>\n",
       "      <td>Griffith Hack</td>\n",
       "      <td>REF</td>\n",
       "      <td>EUR</td>\n",
       "      <td>304.1640</td>\n",
       "      <td>304.1640</td>\n",
       "      <td>...</td>\n",
       "      <td>NaN</td>\n",
       "      <td>NaN</td>\n",
       "      <td>NaN</td>\n",
       "      <td>NaN</td>\n",
       "      <td>NaN</td>\n",
       "      <td>NaN</td>\n",
       "      <td>NaN</td>\n",
       "      <td>NaN</td>\n",
       "      <td>NaN</td>\n",
       "      <td>NaN</td>\n",
       "      <td>NaN</td>\n",
       "      <td>NaN</td>\n",
       "      <td>NaN</td>\n",
       "      <td>NaN</td>\n",
       "      <td>0.0</td>\n",
       "    </tr>\n",
       "    <tr>\n",
       "      <th>4</th>\n",
       "      <td>5</td>\n",
       "      <td>airdmcburney.com</td>\n",
       "      <td>Aird &amp; McBurney LP</td>\n",
       "      <td>REF</td>\n",
       "      <td>CAD</td>\n",
       "      <td>425.0</td>\n",
       "      <td>425.0</td>\n",
       "      <td>425.0</td>\n",
       "      <td>0.005</td>\n",
       "      <td>griffithhack.com</td>\n",
       "      <td>Griffith Hack</td>\n",
       "      <td>REF</td>\n",
       "      <td>EUR</td>\n",
       "      <td>304.1640</td>\n",
       "      <td>304.1640</td>\n",
       "      <td>...</td>\n",
       "      <td>NaN</td>\n",
       "      <td>NaN</td>\n",
       "      <td>NaN</td>\n",
       "      <td>NaN</td>\n",
       "      <td>NaN</td>\n",
       "      <td>NaN</td>\n",
       "      <td>NaN</td>\n",
       "      <td>NaN</td>\n",
       "      <td>NaN</td>\n",
       "      <td>NaN</td>\n",
       "      <td>NaN</td>\n",
       "      <td>NaN</td>\n",
       "      <td>NaN</td>\n",
       "      <td>NaN</td>\n",
       "      <td>0.0</td>\n",
       "    </tr>\n",
       "  </tbody>\n",
       "</table>\n",
       "<p>5 rows × 93 columns</p>\n",
       "</div>"
      ],
      "text/plain": [
       "   id      billerDomain                      billerName billerReference  \\\n",
       "0   1     accuprotm.com  Accupro Trademark Services Ltd             REF   \n",
       "1   2     accuprotm.com  Accupro Trademark Services Ltd             REF   \n",
       "2   3  airdmcburney.com              Aird & McBurney LP             REF   \n",
       "3   4  airdmcburney.com              Aird & McBurney LP             REF   \n",
       "4   5  airdmcburney.com              Aird & McBurney LP             REF   \n",
       "\n",
       "  billerCurrency  billerAmount  billerAmountNow  billerAmountLater  \\\n",
       "0            CAD         371.4            371.4              371.4   \n",
       "1            CAD         456.5            456.5              456.5   \n",
       "2            CAD         475.0            475.0              475.0   \n",
       "3            CAD         425.0            425.0              425.0   \n",
       "4            CAD         425.0            425.0              425.0   \n",
       "\n",
       "   forwardExchangeAdjustment       payerDomain      payerName payerReference  \\\n",
       "0                      0.005  griffithhack.com  Griffith Hack            REF   \n",
       "1                      0.005  griffithhack.com  Griffith Hack            REF   \n",
       "2                      0.005  griffithhack.com  Griffith Hack            REF   \n",
       "3                      0.005  griffithhack.com  Griffith Hack            REF   \n",
       "4                      0.005  griffithhack.com  Griffith Hack            REF   \n",
       "\n",
       "  payerCurrency  payerAmount  payerAmountNow  ...  awxTransferFeeCurrency  \\\n",
       "0           EUR     265.8036        265.8036  ...                     NaN   \n",
       "1           EUR     326.7079        326.7079  ...                     NaN   \n",
       "2           EUR     339.9480        339.9480  ...                     NaN   \n",
       "3           EUR     304.1640        304.1640  ...                     NaN   \n",
       "4           EUR     304.1640        304.1640  ...                     NaN   \n",
       "\n",
       "   awxSourceCurrency awxTransferFees  awxSourceAmount discountedInvoiceAmount  \\\n",
       "0                NaN             0.0              0.0                     0.0   \n",
       "1                NaN             NaN              NaN                     NaN   \n",
       "2                NaN             NaN              NaN                     NaN   \n",
       "3                NaN             NaN              NaN                     NaN   \n",
       "4                NaN             NaN              NaN                     NaN   \n",
       "\n",
       "  applicant employeeCode clientCode timeKeeper matterCode costCode narrative  \\\n",
       "0       NaN          NaN        NaN        NaN        NaN      NaN       NaN   \n",
       "1       NaN          NaN        NaN        NaN        NaN      NaN       NaN   \n",
       "2       NaN          NaN        NaN        NaN        NaN      NaN       NaN   \n",
       "3       NaN          NaN        NaN        NaN        NaN      NaN       NaN   \n",
       "4       NaN          NaN        NaN        NaN        NaN      NaN       NaN   \n",
       "\n",
       "  barCode adminReference  lockedAmount  \n",
       "0     NaN            NaN           0.0  \n",
       "1     NaN            NaN           0.0  \n",
       "2     NaN            NaN           0.0  \n",
       "3     NaN            NaN           0.0  \n",
       "4     NaN            NaN           0.0  \n",
       "\n",
       "[5 rows x 93 columns]"
      ]
     },
     "execution_count": 6,
     "metadata": {},
     "output_type": "execute_result"
    }
   ],
   "source": [
    "df.head()"
   ]
  },
  {
   "cell_type": "code",
   "execution_count": 7,
   "id": "eaedae3b",
   "metadata": {},
   "outputs": [
    {
     "data": {
      "text/plain": [
       "Index(['id', 'billerDomain', 'billerName', 'billerReference', 'billerCurrency',\n",
       "       'billerAmount', 'billerAmountNow', 'billerAmountLater',\n",
       "       'forwardExchangeAdjustment', 'payerDomain', 'payerName',\n",
       "       'payerReference', 'payerCurrency', 'payerAmount', 'payerAmountNow',\n",
       "       'payerAmountLater', 'markup', 'invoiceNumber', 'invoiceAmount',\n",
       "       'invoiceCurrency', 'invoiceDate', 'invoiceDueDate', 'tradeStatus',\n",
       "       'tradeReference', 'tradeDate', 'tradedBy', 'tradeAuthorisedBy',\n",
       "       'nowPaymentDueDate', 'laterPaymentDueDate', 'payNow', 'payIn',\n",
       "       'paymentDueDate', 'paymentDate', 'settlementDate', 'settleBy',\n",
       "       'paymentStatus', 'paymentReference', 'paidBy', 'paymentAuthorisedBy',\n",
       "       'paymentFile', 'invoiceFile', 'receiptBankLoadStatus', 'receiptBankId',\n",
       "       'receiptBankLoadDate', 'indicativePaymentAmount',\n",
       "       'indicativeClientAmount', 'disbursements', 'integrationStatus',\n",
       "       'integrationDate', 'integrationText', 'archived', 'billeramountcurr1',\n",
       "       'billeramountcurr2', 'billeramountlatercurr1', 'billeramountlatercurr2',\n",
       "       'payeramountcurr1', 'payeramountcurr2', 'payeramountlatercurr1',\n",
       "       'payeramountlatercurr2', 'paymentAmount', 'paymentCurrency',\n",
       "       'otherCurrencyWithAmount', 'tradedCurrency', 'invoiceOwner',\n",
       "       'imanageId', 'paidToBankAccount', 'payerBankReference', 'payerPaidOn',\n",
       "       'createdOn', 'comment', 'clientBillSent', 'adminFees', 'financeFees',\n",
       "       'paymentMarkedOn', 'airwallexStatus', 'payerFirmApprovalStatus',\n",
       "       'clientBillFile', 'awxPaymentDate', 'awxTransferFeeCurrency',\n",
       "       'awxSourceCurrency', 'awxTransferFees', 'awxSourceAmount',\n",
       "       'discountedInvoiceAmount', 'applicant', 'employeeCode', 'clientCode',\n",
       "       'timeKeeper', 'matterCode', 'costCode', 'narrative', 'barCode',\n",
       "       'adminReference', 'lockedAmount'],\n",
       "      dtype='object')"
      ]
     },
     "execution_count": 7,
     "metadata": {},
     "output_type": "execute_result"
    }
   ],
   "source": [
    "df.columns"
   ]
  },
  {
   "cell_type": "code",
   "execution_count": 8,
   "id": "56a3e9ce",
   "metadata": {},
   "outputs": [],
   "source": [
    "df = df[COLUMNS_TO_FILTER]"
   ]
  },
  {
   "cell_type": "code",
   "execution_count": 9,
   "id": "424d2533",
   "metadata": {},
   "outputs": [
    {
     "data": {
      "text/html": [
       "<div>\n",
       "<style scoped>\n",
       "    .dataframe tbody tr th:only-of-type {\n",
       "        vertical-align: middle;\n",
       "    }\n",
       "\n",
       "    .dataframe tbody tr th {\n",
       "        vertical-align: top;\n",
       "    }\n",
       "\n",
       "    .dataframe thead th {\n",
       "        text-align: right;\n",
       "    }\n",
       "</style>\n",
       "<table border=\"1\" class=\"dataframe\">\n",
       "  <thead>\n",
       "    <tr style=\"text-align: right;\">\n",
       "      <th></th>\n",
       "      <th>billerDomain</th>\n",
       "      <th>billerName</th>\n",
       "      <th>billerReference</th>\n",
       "      <th>billerCurrency</th>\n",
       "      <th>billerAmount</th>\n",
       "      <th>payerDomain</th>\n",
       "      <th>payerName</th>\n",
       "      <th>payerReference</th>\n",
       "      <th>payerCurrency</th>\n",
       "      <th>invoiceNumber</th>\n",
       "      <th>invoiceAmount</th>\n",
       "      <th>invoiceCurrency</th>\n",
       "      <th>invoiceOwner</th>\n",
       "    </tr>\n",
       "  </thead>\n",
       "  <tbody>\n",
       "    <tr>\n",
       "      <th>0</th>\n",
       "      <td>accuprotm.com</td>\n",
       "      <td>Accupro Trademark Services Ltd</td>\n",
       "      <td>REF</td>\n",
       "      <td>CAD</td>\n",
       "      <td>371.4</td>\n",
       "      <td>griffithhack.com</td>\n",
       "      <td>Griffith Hack</td>\n",
       "      <td>REF</td>\n",
       "      <td>EUR</td>\n",
       "      <td>407404</td>\n",
       "      <td>371.4</td>\n",
       "      <td>CAD</td>\n",
       "      <td>griffithhack.com</td>\n",
       "    </tr>\n",
       "    <tr>\n",
       "      <th>1</th>\n",
       "      <td>accuprotm.com</td>\n",
       "      <td>Accupro Trademark Services Ltd</td>\n",
       "      <td>REF</td>\n",
       "      <td>CAD</td>\n",
       "      <td>456.5</td>\n",
       "      <td>griffithhack.com</td>\n",
       "      <td>Griffith Hack</td>\n",
       "      <td>REF</td>\n",
       "      <td>EUR</td>\n",
       "      <td>408441</td>\n",
       "      <td>456.5</td>\n",
       "      <td>CAD</td>\n",
       "      <td>griffithhack.com</td>\n",
       "    </tr>\n",
       "    <tr>\n",
       "      <th>2</th>\n",
       "      <td>airdmcburney.com</td>\n",
       "      <td>Aird &amp; McBurney LP</td>\n",
       "      <td>REF</td>\n",
       "      <td>CAD</td>\n",
       "      <td>475.0</td>\n",
       "      <td>griffithhack.com</td>\n",
       "      <td>Griffith Hack</td>\n",
       "      <td>REF</td>\n",
       "      <td>EUR</td>\n",
       "      <td>539580</td>\n",
       "      <td>475.0</td>\n",
       "      <td>CAD</td>\n",
       "      <td>griffithhack.com</td>\n",
       "    </tr>\n",
       "    <tr>\n",
       "      <th>3</th>\n",
       "      <td>airdmcburney.com</td>\n",
       "      <td>Aird &amp; McBurney LP</td>\n",
       "      <td>REF</td>\n",
       "      <td>CAD</td>\n",
       "      <td>425.0</td>\n",
       "      <td>griffithhack.com</td>\n",
       "      <td>Griffith Hack</td>\n",
       "      <td>REF</td>\n",
       "      <td>EUR</td>\n",
       "      <td>540906</td>\n",
       "      <td>425.0</td>\n",
       "      <td>CAD</td>\n",
       "      <td>griffithhack.com</td>\n",
       "    </tr>\n",
       "    <tr>\n",
       "      <th>4</th>\n",
       "      <td>airdmcburney.com</td>\n",
       "      <td>Aird &amp; McBurney LP</td>\n",
       "      <td>REF</td>\n",
       "      <td>CAD</td>\n",
       "      <td>425.0</td>\n",
       "      <td>griffithhack.com</td>\n",
       "      <td>Griffith Hack</td>\n",
       "      <td>REF</td>\n",
       "      <td>EUR</td>\n",
       "      <td>541037</td>\n",
       "      <td>425.0</td>\n",
       "      <td>CAD</td>\n",
       "      <td>griffithhack.com</td>\n",
       "    </tr>\n",
       "  </tbody>\n",
       "</table>\n",
       "</div>"
      ],
      "text/plain": [
       "       billerDomain                      billerName billerReference  \\\n",
       "0     accuprotm.com  Accupro Trademark Services Ltd             REF   \n",
       "1     accuprotm.com  Accupro Trademark Services Ltd             REF   \n",
       "2  airdmcburney.com              Aird & McBurney LP             REF   \n",
       "3  airdmcburney.com              Aird & McBurney LP             REF   \n",
       "4  airdmcburney.com              Aird & McBurney LP             REF   \n",
       "\n",
       "  billerCurrency  billerAmount       payerDomain      payerName  \\\n",
       "0            CAD         371.4  griffithhack.com  Griffith Hack   \n",
       "1            CAD         456.5  griffithhack.com  Griffith Hack   \n",
       "2            CAD         475.0  griffithhack.com  Griffith Hack   \n",
       "3            CAD         425.0  griffithhack.com  Griffith Hack   \n",
       "4            CAD         425.0  griffithhack.com  Griffith Hack   \n",
       "\n",
       "  payerReference payerCurrency invoiceNumber  invoiceAmount invoiceCurrency  \\\n",
       "0            REF           EUR        407404          371.4             CAD   \n",
       "1            REF           EUR        408441          456.5             CAD   \n",
       "2            REF           EUR        539580          475.0             CAD   \n",
       "3            REF           EUR        540906          425.0             CAD   \n",
       "4            REF           EUR        541037          425.0             CAD   \n",
       "\n",
       "       invoiceOwner  \n",
       "0  griffithhack.com  \n",
       "1  griffithhack.com  \n",
       "2  griffithhack.com  \n",
       "3  griffithhack.com  \n",
       "4  griffithhack.com  "
      ]
     },
     "execution_count": 9,
     "metadata": {},
     "output_type": "execute_result"
    }
   ],
   "source": [
    "df.head()"
   ]
  },
  {
   "cell_type": "code",
   "execution_count": 10,
   "id": "189e8a10",
   "metadata": {},
   "outputs": [
    {
     "data": {
      "text/plain": [
       "billerName\n",
       "Abu Ghazaleh Intellectual Property                                           65248\n",
       "Moeller IP Advisors - USD                                                     8729\n",
       "Saba & Co- Head Office                                                        7997\n",
       "Gorodissky & Partners, Ltd - Russia                                           6167\n",
       "Shinjyu Global IP Group                                                       2073\n",
       "                                                                             ...  \n",
       "Ruttensperger Lachnit Trossin Gomoll  Patent- und Rechtsanwalte PartG mbB        1\n",
       "FG Y ASOCIADOS S.A.                                                              1\n",
       "Dennemeyer & Co., LLC                                                            1\n",
       "NORENS PATENTBYRA AB - StockholmSE - EUR                                         1\n",
       "Andrea Moretti                                                                   1\n",
       "Name: count, Length: 2876, dtype: int64"
      ]
     },
     "execution_count": 10,
     "metadata": {},
     "output_type": "execute_result"
    }
   ],
   "source": [
    "df[\"billerName\"].value_counts()"
   ]
  },
  {
   "cell_type": "code",
   "execution_count": 11,
   "id": "cd4b27d0",
   "metadata": {},
   "outputs": [
    {
     "data": {
      "text/plain": [
       "billerName\n",
       "Sunip                                     313\n",
       "MORRISS OBRYANT COM COMPAGNI P.C.         193\n",
       "LIU SHEN & ASSOCIATES- Beijing Office     188\n",
       "APPLEYARD LEES - Halifax                  148\n",
       "Fitch Even Tobin & Flannery               114\n",
       "                                         ... \n",
       "Edwin A Sisson Attorney At Law LLC          1\n",
       "ZEUNER & SUMMERER EUR                       1\n",
       "Verrill - PortlandME - USD                  1\n",
       "SMART & BIGGAR IP - Ottawa - BoM - CAD      1\n",
       "F.R Kelly & Co (Belfast)                    1\n",
       "Name: count, Length: 342, dtype: int64"
      ]
     },
     "execution_count": 11,
     "metadata": {},
     "output_type": "execute_result"
    }
   ],
   "source": [
    "df[df[\"payerName\"].str.contains(\"Adams Pluck\")][\"billerName\"].value_counts()"
   ]
  },
  {
   "cell_type": "code",
   "execution_count": 12,
   "id": "8b529aa6",
   "metadata": {},
   "outputs": [
    {
     "data": {
      "text/html": [
       "<div>\n",
       "<style scoped>\n",
       "    .dataframe tbody tr th:only-of-type {\n",
       "        vertical-align: middle;\n",
       "    }\n",
       "\n",
       "    .dataframe tbody tr th {\n",
       "        vertical-align: top;\n",
       "    }\n",
       "\n",
       "    .dataframe thead th {\n",
       "        text-align: right;\n",
       "    }\n",
       "</style>\n",
       "<table border=\"1\" class=\"dataframe\">\n",
       "  <thead>\n",
       "    <tr style=\"text-align: right;\">\n",
       "      <th></th>\n",
       "      <th>billerDomain</th>\n",
       "      <th>billerName</th>\n",
       "      <th>billerReference</th>\n",
       "      <th>billerCurrency</th>\n",
       "      <th>billerAmount</th>\n",
       "      <th>payerDomain</th>\n",
       "      <th>payerName</th>\n",
       "      <th>payerReference</th>\n",
       "      <th>payerCurrency</th>\n",
       "      <th>invoiceNumber</th>\n",
       "      <th>invoiceAmount</th>\n",
       "      <th>invoiceCurrency</th>\n",
       "      <th>invoiceOwner</th>\n",
       "    </tr>\n",
       "  </thead>\n",
       "  <tbody>\n",
       "    <tr>\n",
       "      <th>1715</th>\n",
       "      <td>liu-shen.com.usd</td>\n",
       "      <td>LIU SHEN &amp; ASSOCIATES (USD)</td>\n",
       "      <td>PZJ15400AJ</td>\n",
       "      <td>USD</td>\n",
       "      <td>NaN</td>\n",
       "      <td>adamspluck.com.au</td>\n",
       "      <td>Adams Pluck</td>\n",
       "      <td>23051CNP00</td>\n",
       "      <td>AUD</td>\n",
       "      <td>P17AU23807</td>\n",
       "      <td>208.14</td>\n",
       "      <td>USD</td>\n",
       "      <td>adamspluck.com.au</td>\n",
       "    </tr>\n",
       "    <tr>\n",
       "      <th>1807</th>\n",
       "      <td>liu-shen.com</td>\n",
       "      <td>LIU SHEN &amp; ASSOCIATES- Beijing Office</td>\n",
       "      <td>PXH04459AJ</td>\n",
       "      <td>CNY</td>\n",
       "      <td>NaN</td>\n",
       "      <td>adamspluck.com.au</td>\n",
       "      <td>Adams Pluck</td>\n",
       "      <td>21261CNP00</td>\n",
       "      <td>AUD</td>\n",
       "      <td>P17AU25734</td>\n",
       "      <td>1350.00</td>\n",
       "      <td>CNY</td>\n",
       "      <td>adamspluck.com.au</td>\n",
       "    </tr>\n",
       "    <tr>\n",
       "      <th>1822</th>\n",
       "      <td>liu-shen.com</td>\n",
       "      <td>LIU SHEN &amp; ASSOCIATES- Beijing Office</td>\n",
       "      <td>P17J28024AJ</td>\n",
       "      <td>CNY</td>\n",
       "      <td>NaN</td>\n",
       "      <td>adamspluck.com.au</td>\n",
       "      <td>Adams Pluck</td>\n",
       "      <td>23111CNP00</td>\n",
       "      <td>AUD</td>\n",
       "      <td>P17AU26108</td>\n",
       "      <td>3850.00</td>\n",
       "      <td>CNY</td>\n",
       "      <td>adamspluck.com.au</td>\n",
       "    </tr>\n",
       "    <tr>\n",
       "      <th>1879</th>\n",
       "      <td>liu-shen.com</td>\n",
       "      <td>LIU SHEN &amp; ASSOCIATES- Beijing Office</td>\n",
       "      <td>PXJ02206AJ</td>\n",
       "      <td>CNY</td>\n",
       "      <td>NaN</td>\n",
       "      <td>adamspluck.com.au</td>\n",
       "      <td>Adams Pluck</td>\n",
       "      <td>21533CNP00</td>\n",
       "      <td>AUD</td>\n",
       "      <td>P17AU27243</td>\n",
       "      <td>2130.00</td>\n",
       "      <td>CNY</td>\n",
       "      <td>adamspluck.com.au</td>\n",
       "    </tr>\n",
       "    <tr>\n",
       "      <th>1899</th>\n",
       "      <td>liu-shen.com.usd</td>\n",
       "      <td>LIU SHEN &amp; ASSOCIATES (USD)</td>\n",
       "      <td>PYF01890</td>\n",
       "      <td>USD</td>\n",
       "      <td>NaN</td>\n",
       "      <td>adamspluck.com.au</td>\n",
       "      <td>Adams Pluck</td>\n",
       "      <td>22761CNP00</td>\n",
       "      <td>AUD</td>\n",
       "      <td>A17AU09183</td>\n",
       "      <td>1697.46</td>\n",
       "      <td>USD</td>\n",
       "      <td>adamspluck.com.au</td>\n",
       "    </tr>\n",
       "    <tr>\n",
       "      <th>...</th>\n",
       "      <td>...</td>\n",
       "      <td>...</td>\n",
       "      <td>...</td>\n",
       "      <td>...</td>\n",
       "      <td>...</td>\n",
       "      <td>...</td>\n",
       "      <td>...</td>\n",
       "      <td>...</td>\n",
       "      <td>...</td>\n",
       "      <td>...</td>\n",
       "      <td>...</td>\n",
       "      <td>...</td>\n",
       "      <td>...</td>\n",
       "    </tr>\n",
       "    <tr>\n",
       "      <th>144222</th>\n",
       "      <td>liu-shen.com</td>\n",
       "      <td>LIU SHEN &amp; ASSOCIATES- Beijing Office</td>\n",
       "      <td>P19J41764D1J</td>\n",
       "      <td>CNY</td>\n",
       "      <td>NaN</td>\n",
       "      <td>adamspluck.com.au</td>\n",
       "      <td>Adams Pluck</td>\n",
       "      <td>23383CNP01</td>\n",
       "      <td>AUD</td>\n",
       "      <td>P24AU21053</td>\n",
       "      <td>11810.00</td>\n",
       "      <td>CNY</td>\n",
       "      <td>adamspluck.com.au</td>\n",
       "    </tr>\n",
       "    <tr>\n",
       "      <th>145995</th>\n",
       "      <td>liu-shen.com.usd</td>\n",
       "      <td>LIU SHEN &amp; ASSOCIATES (USD)</td>\n",
       "      <td>P23J80581A</td>\n",
       "      <td>USD</td>\n",
       "      <td>NaN</td>\n",
       "      <td>adamspluck.com.au</td>\n",
       "      <td>Adams Pluck</td>\n",
       "      <td>24810CNP00</td>\n",
       "      <td>AUD</td>\n",
       "      <td>P24AU28803</td>\n",
       "      <td>1733.80</td>\n",
       "      <td>USD</td>\n",
       "      <td>adamspluck.com.au</td>\n",
       "    </tr>\n",
       "    <tr>\n",
       "      <th>150838</th>\n",
       "      <td>liu-shen.com.usd</td>\n",
       "      <td>LIU SHEN &amp; ASSOCIATES (USD)</td>\n",
       "      <td>P20J51885AJ</td>\n",
       "      <td>USD</td>\n",
       "      <td>NaN</td>\n",
       "      <td>adamspluck.com.au</td>\n",
       "      <td>Adams Pluck</td>\n",
       "      <td>23921CNP00</td>\n",
       "      <td>AUD</td>\n",
       "      <td>A24AU22794</td>\n",
       "      <td>381.17</td>\n",
       "      <td>USD</td>\n",
       "      <td>adamspluck.com.au</td>\n",
       "    </tr>\n",
       "    <tr>\n",
       "      <th>154963</th>\n",
       "      <td>liu-shen.com.usd</td>\n",
       "      <td>LIU SHEN &amp; ASSOCIATES (USD)</td>\n",
       "      <td>P21E62707A</td>\n",
       "      <td>USD</td>\n",
       "      <td>NaN</td>\n",
       "      <td>adamspluck.com.au</td>\n",
       "      <td>Adams Pluck</td>\n",
       "      <td>24476CNP00</td>\n",
       "      <td>AUD</td>\n",
       "      <td>A24AU24349</td>\n",
       "      <td>251.51</td>\n",
       "      <td>USD</td>\n",
       "      <td>adamspluck.com.au</td>\n",
       "    </tr>\n",
       "    <tr>\n",
       "      <th>157041</th>\n",
       "      <td>liu-shen.com</td>\n",
       "      <td>LIU SHEN &amp; ASSOCIATES- Beijing Office</td>\n",
       "      <td>P19J41764D1J</td>\n",
       "      <td>CNY</td>\n",
       "      <td>NaN</td>\n",
       "      <td>adamspluck.com.au</td>\n",
       "      <td>Adams Pluck</td>\n",
       "      <td>23383CNP01</td>\n",
       "      <td>AUD</td>\n",
       "      <td>P24AU37443</td>\n",
       "      <td>3740.00</td>\n",
       "      <td>CNY</td>\n",
       "      <td>adamspluck.com.au</td>\n",
       "    </tr>\n",
       "  </tbody>\n",
       "</table>\n",
       "<p>227 rows × 13 columns</p>\n",
       "</div>"
      ],
      "text/plain": [
       "            billerDomain                             billerName  \\\n",
       "1715    liu-shen.com.usd            LIU SHEN & ASSOCIATES (USD)   \n",
       "1807        liu-shen.com  LIU SHEN & ASSOCIATES- Beijing Office   \n",
       "1822        liu-shen.com  LIU SHEN & ASSOCIATES- Beijing Office   \n",
       "1879        liu-shen.com  LIU SHEN & ASSOCIATES- Beijing Office   \n",
       "1899    liu-shen.com.usd            LIU SHEN & ASSOCIATES (USD)   \n",
       "...                  ...                                    ...   \n",
       "144222      liu-shen.com  LIU SHEN & ASSOCIATES- Beijing Office   \n",
       "145995  liu-shen.com.usd            LIU SHEN & ASSOCIATES (USD)   \n",
       "150838  liu-shen.com.usd            LIU SHEN & ASSOCIATES (USD)   \n",
       "154963  liu-shen.com.usd            LIU SHEN & ASSOCIATES (USD)   \n",
       "157041      liu-shen.com  LIU SHEN & ASSOCIATES- Beijing Office   \n",
       "\n",
       "       billerReference billerCurrency  billerAmount        payerDomain  \\\n",
       "1715        PZJ15400AJ            USD           NaN  adamspluck.com.au   \n",
       "1807        PXH04459AJ            CNY           NaN  adamspluck.com.au   \n",
       "1822       P17J28024AJ            CNY           NaN  adamspluck.com.au   \n",
       "1879        PXJ02206AJ            CNY           NaN  adamspluck.com.au   \n",
       "1899          PYF01890            USD           NaN  adamspluck.com.au   \n",
       "...                ...            ...           ...                ...   \n",
       "144222    P19J41764D1J            CNY           NaN  adamspluck.com.au   \n",
       "145995      P23J80581A            USD           NaN  adamspluck.com.au   \n",
       "150838     P20J51885AJ            USD           NaN  adamspluck.com.au   \n",
       "154963      P21E62707A            USD           NaN  adamspluck.com.au   \n",
       "157041    P19J41764D1J            CNY           NaN  adamspluck.com.au   \n",
       "\n",
       "          payerName payerReference payerCurrency invoiceNumber  invoiceAmount  \\\n",
       "1715    Adams Pluck     23051CNP00           AUD    P17AU23807         208.14   \n",
       "1807    Adams Pluck     21261CNP00           AUD    P17AU25734        1350.00   \n",
       "1822    Adams Pluck     23111CNP00           AUD    P17AU26108        3850.00   \n",
       "1879    Adams Pluck     21533CNP00           AUD    P17AU27243        2130.00   \n",
       "1899    Adams Pluck     22761CNP00           AUD    A17AU09183        1697.46   \n",
       "...             ...            ...           ...           ...            ...   \n",
       "144222  Adams Pluck     23383CNP01           AUD    P24AU21053       11810.00   \n",
       "145995  Adams Pluck     24810CNP00           AUD    P24AU28803        1733.80   \n",
       "150838  Adams Pluck     23921CNP00           AUD    A24AU22794         381.17   \n",
       "154963  Adams Pluck     24476CNP00           AUD    A24AU24349         251.51   \n",
       "157041  Adams Pluck     23383CNP01           AUD    P24AU37443        3740.00   \n",
       "\n",
       "       invoiceCurrency       invoiceOwner  \n",
       "1715               USD  adamspluck.com.au  \n",
       "1807               CNY  adamspluck.com.au  \n",
       "1822               CNY  adamspluck.com.au  \n",
       "1879               CNY  adamspluck.com.au  \n",
       "1899               USD  adamspluck.com.au  \n",
       "...                ...                ...  \n",
       "144222             CNY  adamspluck.com.au  \n",
       "145995             USD  adamspluck.com.au  \n",
       "150838             USD  adamspluck.com.au  \n",
       "154963             USD  adamspluck.com.au  \n",
       "157041             CNY  adamspluck.com.au  \n",
       "\n",
       "[227 rows x 13 columns]"
      ]
     },
     "execution_count": 12,
     "metadata": {},
     "output_type": "execute_result"
    }
   ],
   "source": [
    "df[(df[\"billerName\"].str.contains(\"LIU SHEN & ASSOCIATES\")) & (df[\"payerName\"].str.contains(\"Adams Pluck\"))]\n"
   ]
  },
  {
   "cell_type": "code",
   "execution_count": 13,
   "id": "3d5f34cf",
   "metadata": {},
   "outputs": [
    {
     "data": {
      "text/plain": [
       "billerDomain           1\n",
       "billerName             0\n",
       "billerReference       76\n",
       "billerCurrency         6\n",
       "billerAmount       58265\n",
       "payerDomain            1\n",
       "payerName              0\n",
       "payerReference      2243\n",
       "payerCurrency          1\n",
       "invoiceNumber          0\n",
       "invoiceAmount          0\n",
       "invoiceCurrency        0\n",
       "invoiceOwner           1\n",
       "dtype: int64"
      ]
     },
     "execution_count": 13,
     "metadata": {},
     "output_type": "execute_result"
    }
   ],
   "source": [
    "df.isnull().sum()"
   ]
  },
  {
   "cell_type": "markdown",
   "id": "dcce1071",
   "metadata": {},
   "source": [
    "## Biller Reference Patterns"
   ]
  },
  {
   "cell_type": "code",
   "execution_count": 14,
   "id": "a6056973",
   "metadata": {},
   "outputs": [],
   "source": [
    "biller_df = df[BILLER_REF_NAME_COLS]"
   ]
  },
  {
   "cell_type": "code",
   "execution_count": 15,
   "id": "5e402167",
   "metadata": {},
   "outputs": [
    {
     "name": "stderr",
     "output_type": "stream",
     "text": [
      "C:\\Users\\pooja\\AppData\\Local\\Temp\\ipykernel_16564\\505444064.py:1: SettingWithCopyWarning: \n",
      "A value is trying to be set on a copy of a slice from a DataFrame\n",
      "\n",
      "See the caveats in the documentation: https://pandas.pydata.org/pandas-docs/stable/user_guide/indexing.html#returning-a-view-versus-a-copy\n",
      "  biller_df.fillna(\"-1\", inplace=True)\n"
     ]
    }
   ],
   "source": [
    "biller_df.fillna(\"-1\", inplace=True)"
   ]
  },
  {
   "cell_type": "code",
   "execution_count": 16,
   "id": "424105ba",
   "metadata": {},
   "outputs": [],
   "source": [
    "billname_df = biller_df[\"billerName\"].value_counts().reset_index()"
   ]
  },
  {
   "cell_type": "code",
   "execution_count": 17,
   "id": "27ecca75",
   "metadata": {},
   "outputs": [
    {
     "data": {
      "text/html": [
       "<div>\n",
       "<style scoped>\n",
       "    .dataframe tbody tr th:only-of-type {\n",
       "        vertical-align: middle;\n",
       "    }\n",
       "\n",
       "    .dataframe tbody tr th {\n",
       "        vertical-align: top;\n",
       "    }\n",
       "\n",
       "    .dataframe thead th {\n",
       "        text-align: right;\n",
       "    }\n",
       "</style>\n",
       "<table border=\"1\" class=\"dataframe\">\n",
       "  <thead>\n",
       "    <tr style=\"text-align: right;\">\n",
       "      <th></th>\n",
       "      <th>billerName</th>\n",
       "      <th>count</th>\n",
       "    </tr>\n",
       "  </thead>\n",
       "  <tbody>\n",
       "    <tr>\n",
       "      <th>0</th>\n",
       "      <td>Abu Ghazaleh Intellectual Property</td>\n",
       "      <td>65248</td>\n",
       "    </tr>\n",
       "    <tr>\n",
       "      <th>1</th>\n",
       "      <td>Moeller IP Advisors - USD</td>\n",
       "      <td>8729</td>\n",
       "    </tr>\n",
       "    <tr>\n",
       "      <th>2</th>\n",
       "      <td>Saba &amp; Co- Head Office</td>\n",
       "      <td>7997</td>\n",
       "    </tr>\n",
       "    <tr>\n",
       "      <th>3</th>\n",
       "      <td>Gorodissky &amp; Partners, Ltd - Russia</td>\n",
       "      <td>6167</td>\n",
       "    </tr>\n",
       "    <tr>\n",
       "      <th>4</th>\n",
       "      <td>Shinjyu Global IP Group</td>\n",
       "      <td>2073</td>\n",
       "    </tr>\n",
       "    <tr>\n",
       "      <th>5</th>\n",
       "      <td>AFD China Intellectual Property Law Office</td>\n",
       "      <td>1686</td>\n",
       "    </tr>\n",
       "    <tr>\n",
       "      <th>6</th>\n",
       "      <td>Cruz Marcelo &amp; Tenefrancia - USD</td>\n",
       "      <td>1510</td>\n",
       "    </tr>\n",
       "    <tr>\n",
       "      <th>7</th>\n",
       "      <td>Sojuzpatent</td>\n",
       "      <td>1433</td>\n",
       "    </tr>\n",
       "    <tr>\n",
       "      <th>8</th>\n",
       "      <td>AVA Firm - USD</td>\n",
       "      <td>1174</td>\n",
       "    </tr>\n",
       "    <tr>\n",
       "      <th>9</th>\n",
       "      <td>AMICA LAW LLC</td>\n",
       "      <td>1172</td>\n",
       "    </tr>\n",
       "    <tr>\n",
       "      <th>10</th>\n",
       "      <td>Insperanto Ltd - EUR</td>\n",
       "      <td>1025</td>\n",
       "    </tr>\n",
       "    <tr>\n",
       "      <th>11</th>\n",
       "      <td>Ivanov, Makarov &amp; Partners</td>\n",
       "      <td>1023</td>\n",
       "    </tr>\n",
       "    <tr>\n",
       "      <th>12</th>\n",
       "      <td>Pellerano Messina - EUR</td>\n",
       "      <td>997</td>\n",
       "    </tr>\n",
       "    <tr>\n",
       "      <th>13</th>\n",
       "      <td>Karawani &amp; Co - USD</td>\n",
       "      <td>935</td>\n",
       "    </tr>\n",
       "    <tr>\n",
       "      <th>14</th>\n",
       "      <td>Laghaee Management Company</td>\n",
       "      <td>929</td>\n",
       "    </tr>\n",
       "    <tr>\n",
       "      <th>15</th>\n",
       "      <td>MT4IP</td>\n",
       "      <td>869</td>\n",
       "    </tr>\n",
       "    <tr>\n",
       "      <th>16</th>\n",
       "      <td>Abu Ghazaleh Intellectual Property - EUR</td>\n",
       "      <td>798</td>\n",
       "    </tr>\n",
       "    <tr>\n",
       "      <th>17</th>\n",
       "      <td>Bereskin &amp; Parr LLP - Toronto</td>\n",
       "      <td>784</td>\n",
       "    </tr>\n",
       "    <tr>\n",
       "      <th>18</th>\n",
       "      <td>K &amp; S Partners</td>\n",
       "      <td>777</td>\n",
       "    </tr>\n",
       "    <tr>\n",
       "      <th>19</th>\n",
       "      <td>Shearn Delamore &amp; Co</td>\n",
       "      <td>760</td>\n",
       "    </tr>\n",
       "    <tr>\n",
       "      <th>20</th>\n",
       "      <td>KNOBBE MARTENS OLSON &amp; BEAR LLP</td>\n",
       "      <td>733</td>\n",
       "    </tr>\n",
       "    <tr>\n",
       "      <th>21</th>\n",
       "      <td>Troncoso Leroux</td>\n",
       "      <td>728</td>\n",
       "    </tr>\n",
       "    <tr>\n",
       "      <th>22</th>\n",
       "      <td>Franke Hyland</td>\n",
       "      <td>727</td>\n",
       "    </tr>\n",
       "    <tr>\n",
       "      <th>23</th>\n",
       "      <td>Kilburn &amp; Strode</td>\n",
       "      <td>702</td>\n",
       "    </tr>\n",
       "    <tr>\n",
       "      <th>24</th>\n",
       "      <td>Saba &amp; Co- Head Office - EUR</td>\n",
       "      <td>695</td>\n",
       "    </tr>\n",
       "    <tr>\n",
       "      <th>25</th>\n",
       "      <td>ILS Arias Costa Rica</td>\n",
       "      <td>687</td>\n",
       "    </tr>\n",
       "    <tr>\n",
       "      <th>26</th>\n",
       "      <td>Mewburn Ellis</td>\n",
       "      <td>679</td>\n",
       "    </tr>\n",
       "    <tr>\n",
       "      <th>27</th>\n",
       "      <td>SMART &amp; BIGGAR IP</td>\n",
       "      <td>613</td>\n",
       "    </tr>\n",
       "    <tr>\n",
       "      <th>28</th>\n",
       "      <td>Shiga International Patent Office</td>\n",
       "      <td>608</td>\n",
       "    </tr>\n",
       "    <tr>\n",
       "      <th>29</th>\n",
       "      <td>Unitalen Attorneys at Law (USD)</td>\n",
       "      <td>600</td>\n",
       "    </tr>\n",
       "    <tr>\n",
       "      <th>30</th>\n",
       "      <td>Bozicevic, Field &amp; Francis LLP</td>\n",
       "      <td>587</td>\n",
       "    </tr>\n",
       "    <tr>\n",
       "      <th>31</th>\n",
       "      <td>Patentia Oy</td>\n",
       "      <td>577</td>\n",
       "    </tr>\n",
       "    <tr>\n",
       "      <th>32</th>\n",
       "      <td>CCPIT Patent and TradeMarks Law Office</td>\n",
       "      <td>540</td>\n",
       "    </tr>\n",
       "    <tr>\n",
       "      <th>33</th>\n",
       "      <td>Gorodissky &amp; Partners, Ltd</td>\n",
       "      <td>530</td>\n",
       "    </tr>\n",
       "    <tr>\n",
       "      <th>34</th>\n",
       "      <td>DEHNS</td>\n",
       "      <td>528</td>\n",
       "    </tr>\n",
       "  </tbody>\n",
       "</table>\n",
       "</div>"
      ],
      "text/plain": [
       "                                    billerName  count\n",
       "0           Abu Ghazaleh Intellectual Property  65248\n",
       "1                    Moeller IP Advisors - USD   8729\n",
       "2                       Saba & Co- Head Office   7997\n",
       "3          Gorodissky & Partners, Ltd - Russia   6167\n",
       "4                      Shinjyu Global IP Group   2073\n",
       "5   AFD China Intellectual Property Law Office   1686\n",
       "6             Cruz Marcelo & Tenefrancia - USD   1510\n",
       "7                                  Sojuzpatent   1433\n",
       "8                               AVA Firm - USD   1174\n",
       "9                                AMICA LAW LLC   1172\n",
       "10                        Insperanto Ltd - EUR   1025\n",
       "11                  Ivanov, Makarov & Partners   1023\n",
       "12                     Pellerano Messina - EUR    997\n",
       "13                         Karawani & Co - USD    935\n",
       "14                  Laghaee Management Company    929\n",
       "15                                       MT4IP    869\n",
       "16    Abu Ghazaleh Intellectual Property - EUR    798\n",
       "17               Bereskin & Parr LLP - Toronto    784\n",
       "18                              K & S Partners    777\n",
       "19                        Shearn Delamore & Co    760\n",
       "20             KNOBBE MARTENS OLSON & BEAR LLP    733\n",
       "21                             Troncoso Leroux    728\n",
       "22                               Franke Hyland    727\n",
       "23                            Kilburn & Strode    702\n",
       "24                Saba & Co- Head Office - EUR    695\n",
       "25                        ILS Arias Costa Rica    687\n",
       "26                               Mewburn Ellis    679\n",
       "27                           SMART & BIGGAR IP    613\n",
       "28           Shiga International Patent Office    608\n",
       "29             Unitalen Attorneys at Law (USD)    600\n",
       "30              Bozicevic, Field & Francis LLP    587\n",
       "31                                 Patentia Oy    577\n",
       "32      CCPIT Patent and TradeMarks Law Office    540\n",
       "33                  Gorodissky & Partners, Ltd    530\n",
       "34                                       DEHNS    528"
      ]
     },
     "execution_count": 17,
     "metadata": {},
     "output_type": "execute_result"
    }
   ],
   "source": [
    "billname_df[:35]"
   ]
  },
  {
   "cell_type": "code",
   "execution_count": null,
   "id": "70615eb0",
   "metadata": {},
   "outputs": [],
   "source": [
    "biller_df = biller_df[biller_df[\"billerName\"].isin(billname_df[:35][\"billerName\"])]"
   ]
  },
  {
   "cell_type": "code",
   "execution_count": null,
   "id": "4efca05e",
   "metadata": {},
   "outputs": [],
   "source": [
    "biller_df[\"billerReference\"].value_counts()"
   ]
  },
  {
   "cell_type": "code",
   "execution_count": null,
   "id": "0086b840",
   "metadata": {},
   "outputs": [],
   "source": [
    "df[\"billerReference\"].fillna(\"-1\", inplace=True)\n",
    "df[\"payerReference\"].fillna(\"-1\", inplace=True)"
   ]
  },
  {
   "cell_type": "code",
   "execution_count": 18,
   "id": "ee0789ad",
   "metadata": {},
   "outputs": [],
   "source": [
    "def refTypeCompute(ref):\n",
    "    if ref == \"REF\":\n",
    "        return \"REF\"\n",
    "    elif ref in [-1, \"-1\"]:\n",
    "        return \"-1\"\n",
    "    else:\n",
    "        ref = re.sub(\"[A-Z]\", \"X\", ref)\n",
    "        ref = re.sub(\"\\d\", \"N\", ref)\n",
    "        return ref"
   ]
  },
  {
   "cell_type": "code",
   "execution_count": null,
   "id": "0ef21c8b",
   "metadata": {},
   "outputs": [],
   "source": [
    "biller_df[\"billerType\"] = biller_df[\"billerReference\"].apply(lambda x: refTypeCompute(x))"
   ]
  },
  {
   "cell_type": "code",
   "execution_count": null,
   "id": "d77577c2",
   "metadata": {},
   "outputs": [],
   "source": [
    "biller_df[\"billerType\"].value_counts()"
   ]
  },
  {
   "cell_type": "code",
   "execution_count": null,
   "id": "64de7021",
   "metadata": {},
   "outputs": [],
   "source": [
    "biller_df = biller_df[~biller_df[\"billerType\"].isin([\"REF\", \"-1\"])]"
   ]
  },
  {
   "cell_type": "code",
   "execution_count": null,
   "id": "ad786a6d",
   "metadata": {},
   "outputs": [],
   "source": [
    "biller_ct = pd.crosstab(index=biller_df[\"billerType\"], columns=biller_df[\"billerName\"], margins=True)"
   ]
  },
  {
   "cell_type": "code",
   "execution_count": null,
   "id": "1b5cfeef",
   "metadata": {},
   "outputs": [],
   "source": [
    "biller_ct"
   ]
  },
  {
   "cell_type": "code",
   "execution_count": null,
   "id": "6eba3d08",
   "metadata": {},
   "outputs": [],
   "source": [
    "biller_ct = biller_ct.sort_values(by='All', ascending=False)"
   ]
  },
  {
   "cell_type": "code",
   "execution_count": null,
   "id": "ff722f47",
   "metadata": {},
   "outputs": [],
   "source": [
    "# Sort columns by their totals (except the 'All' column)\n",
    "cols = biller_ct.loc['All'].drop('All')  # exclude 'All'\n",
    "sorted_cols = cols.sort_values(ascending=False).index.tolist()\n",
    "\n",
    "# Reorder columns + add 'All' at the end\n",
    "biller_ct = biller_ct[sorted_cols + ['All']]"
   ]
  },
  {
   "cell_type": "code",
   "execution_count": null,
   "id": "52b7b511",
   "metadata": {},
   "outputs": [],
   "source": [
    "biller_ct"
   ]
  },
  {
   "cell_type": "code",
   "execution_count": null,
   "id": "64a8e34f",
   "metadata": {},
   "outputs": [],
   "source": [
    "biller_ct = biller_ct.reset_index()"
   ]
  },
  {
   "cell_type": "code",
   "execution_count": null,
   "id": "516d88df",
   "metadata": {},
   "outputs": [],
   "source": [
    "biller_ct.to_csv(DATA_FOLDER_PATH + \"/biller_ct.csv\", index=False)"
   ]
  },
  {
   "cell_type": "markdown",
   "id": "df0173dc",
   "metadata": {},
   "source": [
    "## Invoice Number Patterns for Billers and Payers"
   ]
  },
  {
   "cell_type": "code",
   "execution_count": null,
   "id": "744a8910",
   "metadata": {},
   "outputs": [],
   "source": [
    "invoice_df = df[INVOICE_NUM_COLS]"
   ]
  },
  {
   "cell_type": "code",
   "execution_count": null,
   "id": "f3eb82c0",
   "metadata": {},
   "outputs": [],
   "source": [
    "invoice_df.isnull().sum()"
   ]
  },
  {
   "cell_type": "code",
   "execution_count": null,
   "id": "5c442eea",
   "metadata": {},
   "outputs": [],
   "source": [
    "invoice_df[\"invoiceNumberType\"] = invoice_df[\"invoiceNumber\"].apply(lambda x: refTypeCompute(x))"
   ]
  },
  {
   "cell_type": "code",
   "execution_count": null,
   "id": "a9d10c75",
   "metadata": {},
   "outputs": [],
   "source": [
    "invoice_df[\"invoiceNumberType\"].value_counts()"
   ]
  },
  {
   "cell_type": "code",
   "execution_count": null,
   "id": "206cead7",
   "metadata": {},
   "outputs": [],
   "source": [
    "inv_payer_ct = pd.crosstab(index=invoice_df[\"invoiceNumberType\"], columns=invoice_df[\"payerName\"], margins=True)\n",
    "inv_payer_ct = inv_payer_ct.sort_values(by='All', ascending=False)\n",
    "\n",
    "# Sort columns by their totals (except the 'All' column)\n",
    "cols = inv_payer_ct.loc['All'].drop('All')  # exclude 'All'\n",
    "sorted_cols = cols.sort_values(ascending=False).index.tolist()\n",
    "\n",
    "# Reorder columns + add 'All' at the end\n",
    "inv_payer_ct = inv_payer_ct[sorted_cols + ['All']]\n",
    "\n",
    "inv_payer_ct = inv_payer_ct.reset_index()\n"
   ]
  },
  {
   "cell_type": "code",
   "execution_count": null,
   "id": "bf49b643",
   "metadata": {},
   "outputs": [],
   "source": [
    "inv_payer_ct"
   ]
  },
  {
   "cell_type": "code",
   "execution_count": null,
   "id": "ec3b102b",
   "metadata": {},
   "outputs": [],
   "source": [
    "inv_payer_ct.to_csv(DATA_FOLDER_PATH + \"/inv_payer_ct_full.csv\", index=False)\n"
   ]
  },
  {
   "cell_type": "code",
   "execution_count": null,
   "id": "8500a71f",
   "metadata": {},
   "outputs": [],
   "source": [
    "inv_biller_ct = pd.crosstab(index=invoice_df[\"invoiceNumberType\"], columns=invoice_df[\"billerName\"], margins=True)\n",
    "inv_biller_ct = inv_biller_ct.sort_values(by='All', ascending=False)\n",
    "\n",
    "# Sort columns by their totals (except the 'All' column)\n",
    "cols = inv_biller_ct.loc['All'].drop('All')  # exclude 'All'\n",
    "sorted_cols = cols.sort_values(ascending=False).index.tolist()\n",
    "\n",
    "# Reorder columns + add 'All' at the end\n",
    "inv_biller_ct = inv_biller_ct[sorted_cols + ['All']]\n",
    "\n",
    "inv_biller_ct = inv_biller_ct.reset_index()\n"
   ]
  },
  {
   "cell_type": "code",
   "execution_count": null,
   "id": "3a2dd116",
   "metadata": {},
   "outputs": [],
   "source": [
    "inv_biller_ct"
   ]
  },
  {
   "cell_type": "code",
   "execution_count": null,
   "id": "bb9c6eed",
   "metadata": {},
   "outputs": [],
   "source": [
    "inv_biller_ct.to_csv(DATA_FOLDER_PATH + \"/inv_biller_ct_full.csv\", index=False)\n"
   ]
  },
  {
   "cell_type": "markdown",
   "id": "15fde3ce",
   "metadata": {},
   "source": [
    "## Payer Reference Patterns"
   ]
  },
  {
   "cell_type": "code",
   "execution_count": null,
   "id": "abd231d5",
   "metadata": {},
   "outputs": [],
   "source": [
    "payer_df = df[PAYER_REF_NAME_COLS]"
   ]
  },
  {
   "cell_type": "code",
   "execution_count": null,
   "id": "2bd43342",
   "metadata": {},
   "outputs": [],
   "source": [
    "payer_df"
   ]
  },
  {
   "cell_type": "code",
   "execution_count": null,
   "id": "75380cc2",
   "metadata": {},
   "outputs": [],
   "source": [
    "payer_df.fillna(\"-1\", inplace=True)"
   ]
  },
  {
   "cell_type": "code",
   "execution_count": null,
   "id": "5b625766",
   "metadata": {},
   "outputs": [],
   "source": [
    "payername_df = payer_df[\"payerName\"].value_counts().reset_index()"
   ]
  },
  {
   "cell_type": "code",
   "execution_count": null,
   "id": "28b6b566",
   "metadata": {},
   "outputs": [],
   "source": [
    "payer_df = payer_df[payer_df[\"payerName\"].isin(payername_df[:54][\"payerName\"])]"
   ]
  },
  {
   "cell_type": "code",
   "execution_count": null,
   "id": "2d033b6e",
   "metadata": {},
   "outputs": [],
   "source": [
    "payer_df.shape"
   ]
  },
  {
   "cell_type": "code",
   "execution_count": null,
   "id": "46b31f07",
   "metadata": {},
   "outputs": [],
   "source": [
    "payer_df[\"payerName\"].value_counts()"
   ]
  },
  {
   "cell_type": "code",
   "execution_count": null,
   "id": "3a5ac95a",
   "metadata": {},
   "outputs": [],
   "source": [
    "payer_df[\"payerType\"] = payer_df[\"payerReference\"].apply(lambda x: refTypeCompute(x))"
   ]
  },
  {
   "cell_type": "code",
   "execution_count": null,
   "id": "0cc9ee16",
   "metadata": {},
   "outputs": [],
   "source": [
    "payer_df[\"payerType\"].value_counts()"
   ]
  },
  {
   "cell_type": "code",
   "execution_count": null,
   "id": "0668e294",
   "metadata": {},
   "outputs": [],
   "source": [
    "payer_df = payer_df[~payer_df[\"payerReference\"].isin([\"REF\", \"-1\"])]"
   ]
  },
  {
   "cell_type": "code",
   "execution_count": null,
   "id": "9e3daec0",
   "metadata": {},
   "outputs": [],
   "source": [
    "payer_df.shape"
   ]
  },
  {
   "cell_type": "code",
   "execution_count": null,
   "id": "ccdcb171",
   "metadata": {},
   "outputs": [],
   "source": [
    "payer_ct = pd.crosstab(index=payer_df[\"payerType\"], columns=payer_df[\"payerName\"], margins=True)"
   ]
  },
  {
   "cell_type": "code",
   "execution_count": null,
   "id": "8e8ef4ee",
   "metadata": {},
   "outputs": [],
   "source": [
    "payer_ct = payer_ct.sort_values(by='All', ascending=False)"
   ]
  },
  {
   "cell_type": "code",
   "execution_count": null,
   "id": "8fed29c0",
   "metadata": {},
   "outputs": [],
   "source": [
    "payer_ct"
   ]
  },
  {
   "cell_type": "code",
   "execution_count": null,
   "id": "7b4eabeb",
   "metadata": {},
   "outputs": [],
   "source": [
    "# Sort columns by their totals (except the 'All' column)\n",
    "cols = payer_ct.loc['All'].drop('All')  # exclude 'All'\n",
    "sorted_cols = cols.sort_values(ascending=False).index.tolist()\n",
    "\n",
    "# Reorder columns + add 'All' at the end\n",
    "payer_ct = payer_ct[sorted_cols + ['All']]"
   ]
  },
  {
   "cell_type": "code",
   "execution_count": null,
   "id": "94a64979",
   "metadata": {},
   "outputs": [],
   "source": [
    "payer_ct = payer_ct.reset_index()"
   ]
  },
  {
   "cell_type": "code",
   "execution_count": null,
   "id": "ead4a009",
   "metadata": {},
   "outputs": [],
   "source": [
    "payer_ct.to_csv(DATA_FOLDER_PATH + \"/payer_ct_full.csv\", index=False)"
   ]
  },
  {
   "cell_type": "code",
   "execution_count": null,
   "id": "513a035f",
   "metadata": {},
   "outputs": [],
   "source": [
    "# biller_ct = pd.read_csv(DATA_FOLDER_PATH + \"/biller_ct_full.csv\")\n",
    "# payer_ct = pd.read_csv(DATA_FOLDER_PATH + \"/payer_ct_full.csv\")"
   ]
  },
  {
   "cell_type": "markdown",
   "id": "f6a2dd42",
   "metadata": {},
   "source": [
    "## Implementation"
   ]
  },
  {
   "cell_type": "code",
   "execution_count": null,
   "id": "141b911f",
   "metadata": {},
   "outputs": [],
   "source": [
    "billers_name = biller_ct.columns\n",
    "remove_cols = [\"All\", \"billerName\", \"billerType\"]\n",
    "billers_name = list(set(billers_name) - set(remove_cols))\n",
    "# billers_name"
   ]
  },
  {
   "cell_type": "code",
   "execution_count": null,
   "id": "48b2b428",
   "metadata": {},
   "outputs": [],
   "source": [
    "biller_ct"
   ]
  },
  {
   "cell_type": "code",
   "execution_count": null,
   "id": "d4e17f4a",
   "metadata": {},
   "outputs": [],
   "source": [
    "for idx in tqdm(range(1, len(biller_ct))):\n",
    "    \n",
    "    total_count_per_pattern = biller_ct[\"All\"].iloc[idx]\n",
    "    for each_col in billers_name:\n",
    "        # total_count_of_each_biller = biller_ct[each_col].iloc[0]\n",
    "        biller_ct[each_col].iloc[idx] = biller_ct[each_col].iloc[idx] / total_count_per_pattern"
   ]
  },
  {
   "cell_type": "code",
   "execution_count": null,
   "id": "cde17797",
   "metadata": {},
   "outputs": [],
   "source": [
    "biller_ct"
   ]
  },
  {
   "cell_type": "code",
   "execution_count": null,
   "id": "e3eedcd9",
   "metadata": {},
   "outputs": [],
   "source": [
    "payer_name = payer_ct.columns\n",
    "remove_cols = [\"All\", \"payerName\", \"payerType\"]\n",
    "payer_name = list(set(payer_name) - set(remove_cols))"
   ]
  },
  {
   "cell_type": "code",
   "execution_count": null,
   "id": "8e94ce2a",
   "metadata": {},
   "outputs": [],
   "source": [
    "for idx in tqdm(range(len(payer_ct))):\n",
    "    \n",
    "    total_count_per_pattern = payer_ct[\"All\"].iloc[idx]\n",
    "    for each_col in payer_name:\n",
    "        payer_ct[each_col].iloc[idx] = payer_ct[each_col].iloc[idx] / total_count_per_pattern"
   ]
  },
  {
   "cell_type": "code",
   "execution_count": null,
   "id": "3e56f889",
   "metadata": {},
   "outputs": [],
   "source": [
    "payer_ct"
   ]
  },
  {
   "cell_type": "code",
   "execution_count": null,
   "id": "9abb8ce0",
   "metadata": {},
   "outputs": [],
   "source": [
    "biller_ct.to_csv(DATA_FOLDER_PATH + \"/biller_ct_prob.csv\", index=False)\n",
    "payer_ct.to_csv(DATA_FOLDER_PATH + \"/payer_ct_prob.csv\", index=False)"
   ]
  },
  {
   "cell_type": "code",
   "execution_count": 19,
   "id": "8bf7f799",
   "metadata": {},
   "outputs": [],
   "source": [
    "biller_ct = pd.read_csv(DATA_FOLDER_PATH + \"/biller_ct_full_prob.csv\")\n",
    "payer_ct = pd.read_csv(DATA_FOLDER_PATH + \"/payer_ct_full_prob.csv\")"
   ]
  },
  {
   "cell_type": "code",
   "execution_count": 20,
   "id": "02e03264",
   "metadata": {},
   "outputs": [
    {
     "name": "stderr",
     "output_type": "stream",
     "text": [
      "C:\\Users\\pooja\\AppData\\Local\\Temp\\ipykernel_16564\\1509416967.py:1: FutureWarning: A value is trying to be set on a copy of a DataFrame or Series through chained assignment using an inplace method.\n",
      "The behavior will change in pandas 3.0. This inplace method will never work because the intermediate object on which we are setting values always behaves as a copy.\n",
      "\n",
      "For example, when doing 'df[col].method(value, inplace=True)', try using 'df.method({col: value}, inplace=True)' or df[col] = df[col].method(value) instead, to perform the operation inplace on the original object.\n",
      "\n",
      "\n",
      "  df[\"billerReference\"].fillna(\"-1\", inplace=True)\n",
      "C:\\Users\\pooja\\AppData\\Local\\Temp\\ipykernel_16564\\1509416967.py:2: FutureWarning: A value is trying to be set on a copy of a DataFrame or Series through chained assignment using an inplace method.\n",
      "The behavior will change in pandas 3.0. This inplace method will never work because the intermediate object on which we are setting values always behaves as a copy.\n",
      "\n",
      "For example, when doing 'df[col].method(value, inplace=True)', try using 'df.method({col: value}, inplace=True)' or df[col] = df[col].method(value) instead, to perform the operation inplace on the original object.\n",
      "\n",
      "\n",
      "  df[\"payerReference\"].fillna(\"-1\", inplace=True)\n"
     ]
    }
   ],
   "source": [
    "df[\"billerReference\"].fillna(\"-1\", inplace=True)\n",
    "df[\"payerReference\"].fillna(\"-1\", inplace=True)\n",
    "\n",
    "df[\"billerType\"] = df[\"billerReference\"].apply(lambda x: refTypeCompute(x))\n",
    "df[\"payerType\"] = df[\"payerReference\"].apply(lambda x: refTypeCompute(x))"
   ]
  },
  {
   "cell_type": "code",
   "execution_count": 158,
   "id": "2c729504",
   "metadata": {},
   "outputs": [],
   "source": [
    "# best case example\n",
    "sample_biller = \"TM13017AR38-JD4RG (111493)\"\n",
    "sample_payer = \"21CS-249442\"\n",
    "\n",
    "# # average case example\n",
    "# sample_biller = \"WT JAN ksh F.20221021 (6814 SG)\"\n",
    "# sample_payer = \"200979SG\"\n",
    "# sample_biller = \"4130973568\"\n",
    "# sample_payer = \"231697\"\n",
    "# sample_biller = \"P23J80581A\"\n",
    "# sample_payer = \"24810CNP00\"\n",
    "# sample_biller = \"6632CON\"\n",
    "# sample_payer = \"23921USP01\"\n",
    "# sample_biller = \"CPME2240463P\"\n",
    "# sample_payer = \"ONPV01-00082\"\n",
    "sample_biller = \"4050963213\"\n",
    "sample_payer = \"62554W JO\"\n",
    "     \n",
    "\n",
    "# # invariant example\n",
    "# sample_biller = \"WT JAN ksh F.20221021 (6814 SG)\"\n",
    "# sample_payer = \"21CS-249442\"\n",
    "\n",
    "def get_top_3_combinations(billerref, payerref):\n",
    "    \n",
    "    # pre-process biller and payer\n",
    "    biller_pattern = refTypeCompute(billerref)\n",
    "    payer_pattern = refTypeCompute(payerref)\n",
    "    if biller_pattern not in biller_ct[\"billerType\"].values and payer_pattern not in payer_ct[\"payerType\"].values:\n",
    "        return \"biller and payer pattern is empty\"\n",
    "    \n",
    "    # print(f\"{biller_pattern} - {payer_pattern}\")\n",
    "    biller_pattern_fil = biller_ct[biller_ct[\"billerType\"] == biller_pattern]\n",
    "    payer_pattern_fil = payer_ct[payer_ct[\"payerType\"] == payer_pattern]\n",
    "    \n",
    "    if biller_pattern_fil.shape[0] == 0 and payer_pattern_fil.shape[0] == 0:\n",
    "        return \"missing_biller_pattern\", \"missing_payer_pattern\", biller_pattern, payer_pattern\n",
    "    \n",
    "    if not biller_pattern_fil.shape[0]:\n",
    "        return \"missing_biller_pattern\", payer_pattern_fil, biller_pattern, payer_pattern\n",
    "\n",
    "    if not payer_pattern_fil.shape[0]:\n",
    "        return biller_pattern_fil, \"missing_payer_pattern\", biller_pattern, payer_pattern\n",
    "\n",
    "    # top 3 biller per pattern\n",
    "    biller_pattern_support = biller_pattern_fil[\"All\"].iloc[0]\n",
    "    biller_pattern_fil_ = biller_pattern_fil.drop([\"All\", \"billerType\"], axis=1)\n",
    "    biller_pattern_fil_ = biller_pattern_fil_[biller_pattern_fil_.iloc[0].sort_values(ascending=False).index[:3]]\n",
    "    biller_pattern_fil_[\"Support\"] = biller_pattern_support\n",
    "\n",
    "    # top 3 payer per pattern\n",
    "    payer_pattern_support = payer_pattern_fil[\"All\"].iloc[0]\n",
    "    payer_pattern_fil_ = payer_pattern_fil.drop([\"All\", \"payerType\"], axis=1)\n",
    "    payer_pattern_fil_ = payer_pattern_fil_[payer_pattern_fil_.iloc[0].sort_values(ascending=False).index[:3]]\n",
    "    payer_pattern_fil_[\"Support\"] = payer_pattern_support\n",
    "    \n",
    "    # get the combinations confidence\n",
    "    return biller_pattern_fil_, payer_pattern_fil_, biller_pattern, payer_pattern"
   ]
  },
  {
   "cell_type": "code",
   "execution_count": 159,
   "id": "15f7a7e0",
   "metadata": {},
   "outputs": [],
   "source": [
    "results = get_top_3_combinations(sample_biller, sample_payer)"
   ]
  },
  {
   "cell_type": "code",
   "execution_count": 160,
   "id": "4524071d",
   "metadata": {},
   "outputs": [
    {
     "data": {
      "text/html": [
       "<div>\n",
       "<style scoped>\n",
       "    .dataframe tbody tr th:only-of-type {\n",
       "        vertical-align: middle;\n",
       "    }\n",
       "\n",
       "    .dataframe tbody tr th {\n",
       "        vertical-align: top;\n",
       "    }\n",
       "\n",
       "    .dataframe thead th {\n",
       "        text-align: right;\n",
       "    }\n",
       "</style>\n",
       "<table border=\"1\" class=\"dataframe\">\n",
       "  <thead>\n",
       "    <tr style=\"text-align: right;\">\n",
       "      <th></th>\n",
       "      <th>Abu Ghazaleh Intellectual Property</th>\n",
       "      <th>Abu Ghazaleh Intellectual Property - EUR</th>\n",
       "      <th>Norton Rose Fulbright Canada LLP - Montreal</th>\n",
       "      <th>Support</th>\n",
       "    </tr>\n",
       "  </thead>\n",
       "  <tbody>\n",
       "    <tr>\n",
       "      <th>1</th>\n",
       "      <td>0.974342</td>\n",
       "      <td>0.013677</td>\n",
       "      <td>0.004493</td>\n",
       "      <td>40066</td>\n",
       "    </tr>\n",
       "  </tbody>\n",
       "</table>\n",
       "</div>"
      ],
      "text/plain": [
       "   Abu Ghazaleh Intellectual Property  \\\n",
       "1                            0.974342   \n",
       "\n",
       "   Abu Ghazaleh Intellectual Property - EUR  \\\n",
       "1                                  0.013677   \n",
       "\n",
       "   Norton Rose Fulbright Canada LLP - Montreal  Support  \n",
       "1                                     0.004493    40066  "
      ]
     },
     "execution_count": 160,
     "metadata": {},
     "output_type": "execute_result"
    }
   ],
   "source": [
    "results[0]"
   ]
  },
  {
   "cell_type": "code",
   "execution_count": 161,
   "id": "e2e0f444",
   "metadata": {},
   "outputs": [
    {
     "data": {
      "text/html": [
       "<div>\n",
       "<style scoped>\n",
       "    .dataframe tbody tr th:only-of-type {\n",
       "        vertical-align: middle;\n",
       "    }\n",
       "\n",
       "    .dataframe tbody tr th {\n",
       "        vertical-align: top;\n",
       "    }\n",
       "\n",
       "    .dataframe thead th {\n",
       "        text-align: right;\n",
       "    }\n",
       "</style>\n",
       "<table border=\"1\" class=\"dataframe\">\n",
       "  <thead>\n",
       "    <tr style=\"text-align: right;\">\n",
       "      <th></th>\n",
       "      <th>Ruttensperger Lachnit Trossin Gomoll</th>\n",
       "      <th>Ruttensperger Lachnit Trossin Gomoll (RLTG ) Patent- und Rechtsanwalte PartG mbB</th>\n",
       "      <th>Ruttensperger Lachnit Trossin Gomoll (RLTG )</th>\n",
       "      <th>Support</th>\n",
       "    </tr>\n",
       "  </thead>\n",
       "  <tbody>\n",
       "    <tr>\n",
       "      <th>744</th>\n",
       "      <td>0.636364</td>\n",
       "      <td>0.181818</td>\n",
       "      <td>0.090909</td>\n",
       "      <td>22</td>\n",
       "    </tr>\n",
       "  </tbody>\n",
       "</table>\n",
       "</div>"
      ],
      "text/plain": [
       "     Ruttensperger Lachnit Trossin Gomoll  \\\n",
       "744                              0.636364   \n",
       "\n",
       "     Ruttensperger Lachnit Trossin Gomoll (RLTG ) Patent- und Rechtsanwalte PartG mbB  \\\n",
       "744                                           0.181818                                  \n",
       "\n",
       "     Ruttensperger Lachnit Trossin Gomoll (RLTG )  Support  \n",
       "744                                      0.090909       22  "
      ]
     },
     "execution_count": 161,
     "metadata": {},
     "output_type": "execute_result"
    }
   ],
   "source": [
    "results[1]"
   ]
  },
  {
   "cell_type": "code",
   "execution_count": 126,
   "id": "28a03111",
   "metadata": {},
   "outputs": [],
   "source": [
    "def get_combination_counts(biller_possibilities, payer_possibilities, biller_pattern, payer_pattern):\n",
    "    result_pair = {}\n",
    "    biller_payer_pairs = [(x, y) for x in biller_possibilities.columns[:-1] for y in payer_possibilities.columns[:-1] if biller_possibilities[x].iloc[0] != 0 and payer_possibilities[y].iloc[0]]\n",
    "    # print(biller_payer_pairs)\n",
    "    \n",
    "    df_ = df[(df[\"billerType\"] == biller_pattern) & (df[\"payerType\"] == payer_pattern)]\n",
    "    df__ = df_[(df_[\"billerName\"].isin(biller_possibilities.columns[:-1])) & (df_[\"payerName\"].isin(payer_possibilities.columns[:-1]))]\n",
    "    if not df__.shape[0]:\n",
    "        return result_pair, \"no_combinations_available\", df_.shape[0]\n",
    "\n",
    "    for each_pair in biller_payer_pairs:\n",
    "        each_pair_possibility = df[(df[\"billerName\"] == each_pair[0]) & (df[\"payerName\"] == each_pair[1])]\n",
    "        if each_pair_possibility.shape[0] > 0:\n",
    "            # each_pair_prob = biller_possibilities[each_pair[0]].iloc[0] * payer_possibilities[each_pair[1]].iloc[0]\n",
    "            # print(each_pair, df__.shape[0])\n",
    "            \n",
    "            each_pair_support = df__[(df__[\"billerName\"] == each_pair[0]) & (df__[\"payerName\"] == each_pair[1])]\n",
    "            each_pair_prob =  each_pair_support.shape[0] / df__.shape[0]\n",
    "            prob_agg = (biller_possibilities[each_pair[0]].iloc[0] + payer_possibilities[each_pair[1]].iloc[0] + each_pair_prob) / 3\n",
    "            result_pair[each_pair] = (each_pair_support.shape[0], each_pair_prob, prob_agg.item())\n",
    "    return result_pair, \"success\", df_.shape[0]"
   ]
  },
  {
   "cell_type": "code",
   "execution_count": null,
   "id": "6ff86279",
   "metadata": {},
   "outputs": [],
   "source": [
    "# (1 + 0.61)/2, (1 + 0.36)/2, (1 + 0.016)/2, (1 * 0.61), (1 * 0.36), (1 * 0.016), (0.8 * 0.61),(0.8 * 0.36), (0.8 * 0.016), (0.2 * 0.61), (0.2 * 0.36), (0.2 * 0.016), (0.8 + 0.61)/2, (0.8 + 0.36)/2, (0.8 + 0.016)/2"
   ]
  },
  {
   "cell_type": "code",
   "execution_count": 26,
   "id": "3ee1daae",
   "metadata": {},
   "outputs": [
    {
     "name": "stdout",
     "output_type": "stream",
     "text": [
      "[('China Patent Agent (HK) Ltd', 'Munck Wilson Mandala LLP'), ('China Patent Agent (HK) Ltd', 'Munck Wilson Mandala - DallasTX - USD'), ('Tsingyihua Intellectual Property LLC', 'Munck Wilson Mandala LLP'), ('Tsingyihua Intellectual Property LLC', 'Munck Wilson Mandala - DallasTX - USD'), ('Patentia Oy', 'Munck Wilson Mandala LLP'), ('Patentia Oy', 'Munck Wilson Mandala - DallasTX - USD')]\n"
     ]
    }
   ],
   "source": [
    "result_pair, output_type, pattern_pair_support = get_combination_counts(results[0], results[1], results[2], results[3])"
   ]
  },
  {
   "cell_type": "code",
   "execution_count": 27,
   "id": "f2b51b37",
   "metadata": {},
   "outputs": [
    {
     "name": "stdout",
     "output_type": "stream",
     "text": [
      "{}\n",
      "no_combinations_available\n",
      "2\n"
     ]
    }
   ],
   "source": [
    "from pprint import pprint\n",
    "pprint(result_pair)\n",
    "print(output_type)\n",
    "print(pattern_pair_support)"
   ]
  },
  {
   "cell_type": "code",
   "execution_count": 28,
   "id": "0fccd104",
   "metadata": {},
   "outputs": [
    {
     "data": {
      "text/html": [
       "<div>\n",
       "<style scoped>\n",
       "    .dataframe tbody tr th:only-of-type {\n",
       "        vertical-align: middle;\n",
       "    }\n",
       "\n",
       "    .dataframe tbody tr th {\n",
       "        vertical-align: top;\n",
       "    }\n",
       "\n",
       "    .dataframe thead th {\n",
       "        text-align: right;\n",
       "    }\n",
       "</style>\n",
       "<table border=\"1\" class=\"dataframe\">\n",
       "  <thead>\n",
       "    <tr style=\"text-align: right;\">\n",
       "      <th></th>\n",
       "      <th>billerDomain</th>\n",
       "      <th>billerName</th>\n",
       "      <th>billerReference</th>\n",
       "      <th>billerCurrency</th>\n",
       "      <th>billerAmount</th>\n",
       "      <th>payerDomain</th>\n",
       "      <th>payerName</th>\n",
       "      <th>payerReference</th>\n",
       "      <th>payerCurrency</th>\n",
       "      <th>invoiceNumber</th>\n",
       "      <th>invoiceAmount</th>\n",
       "      <th>invoiceCurrency</th>\n",
       "      <th>invoiceOwner</th>\n",
       "      <th>billerType</th>\n",
       "      <th>payerType</th>\n",
       "    </tr>\n",
       "  </thead>\n",
       "  <tbody>\n",
       "    <tr>\n",
       "      <th>150211</th>\n",
       "      <td>cpahkltd.com.hkd</td>\n",
       "      <td>China Patent Agent (HK) - HKD</td>\n",
       "      <td>CPEL1651139P</td>\n",
       "      <td>HKD</td>\n",
       "      <td>NaN</td>\n",
       "      <td>munckwilson.com</td>\n",
       "      <td>Munck Wilson Mandala LLP</td>\n",
       "      <td>SOLE01-00099</td>\n",
       "      <td>USD</td>\n",
       "      <td>24X31696</td>\n",
       "      <td>180.6</td>\n",
       "      <td>HKD</td>\n",
       "      <td>munckwilson.com</td>\n",
       "      <td>XXXXNNNNNNNX</td>\n",
       "      <td>XXXXNN-NNNNN</td>\n",
       "    </tr>\n",
       "    <tr>\n",
       "      <th>171379</th>\n",
       "      <td>cpahkltd.com.hkd</td>\n",
       "      <td>China Patent Agent (HK) - HKD</td>\n",
       "      <td>CPEL2153912D</td>\n",
       "      <td>HKD</td>\n",
       "      <td>NaN</td>\n",
       "      <td>munckwilson.com</td>\n",
       "      <td>Munck Wilson Mandala LLP</td>\n",
       "      <td>GOLD11-00561</td>\n",
       "      <td>USD</td>\n",
       "      <td>25X05693</td>\n",
       "      <td>486.7</td>\n",
       "      <td>HKD</td>\n",
       "      <td>munckwilson.com</td>\n",
       "      <td>XXXXNNNNNNNX</td>\n",
       "      <td>XXXXNN-NNNNN</td>\n",
       "    </tr>\n",
       "  </tbody>\n",
       "</table>\n",
       "</div>"
      ],
      "text/plain": [
       "            billerDomain                     billerName billerReference  \\\n",
       "150211  cpahkltd.com.hkd  China Patent Agent (HK) - HKD    CPEL1651139P   \n",
       "171379  cpahkltd.com.hkd  China Patent Agent (HK) - HKD    CPEL2153912D   \n",
       "\n",
       "       billerCurrency  billerAmount      payerDomain  \\\n",
       "150211            HKD           NaN  munckwilson.com   \n",
       "171379            HKD           NaN  munckwilson.com   \n",
       "\n",
       "                       payerName payerReference payerCurrency invoiceNumber  \\\n",
       "150211  Munck Wilson Mandala LLP   SOLE01-00099           USD      24X31696   \n",
       "171379  Munck Wilson Mandala LLP   GOLD11-00561           USD      25X05693   \n",
       "\n",
       "        invoiceAmount invoiceCurrency     invoiceOwner    billerType  \\\n",
       "150211          180.6             HKD  munckwilson.com  XXXXNNNNNNNX   \n",
       "171379          486.7             HKD  munckwilson.com  XXXXNNNNNNNX   \n",
       "\n",
       "           payerType  \n",
       "150211  XXXXNN-NNNNN  \n",
       "171379  XXXXNN-NNNNN  "
      ]
     },
     "execution_count": 28,
     "metadata": {},
     "output_type": "execute_result"
    }
   ],
   "source": [
    "df[(df[\"billerType\"] == \"XXXXNNNNNNNX\") & (df[\"payerType\"] == \"XXXXNN-NNNNN\")]"
   ]
  },
  {
   "cell_type": "code",
   "execution_count": 29,
   "id": "eab25055",
   "metadata": {},
   "outputs": [
    {
     "data": {
      "text/plain": [
       "{}"
      ]
     },
     "execution_count": 29,
     "metadata": {},
     "output_type": "execute_result"
    }
   ],
   "source": [
    "sorted_dict = dict(sorted(result_pair.items(), key=lambda item: item[1][1], reverse=True))\n",
    "sorted_dict"
   ]
  },
  {
   "cell_type": "code",
   "execution_count": null,
   "id": "95e00494",
   "metadata": {},
   "outputs": [],
   "source": [
    "# validate these questions\n",
    "# 1. How many patterns seems to be having the interactions(with other domains) in top_3?\n",
    "#   - (smaller_set) payer patterns seem to be having intersections(with other domains) within top_3\n",
    "# 2. How support based guardrail should be implemented?\n",
    "#   - 80% threshold seems reasonable to start with\n",
    "# 3. How many patterns seems to be having higher variance -> significant spread in 4th or 5th or so on\n",
    "#   - minimal, only observed in payer segments\n",
    "# 4. How offen the pattern library increases?\n",
    "#   - seems like patterns are growing heavily for available billers and payers\n",
    "# 5. What will happen if for a specific pattern two biller-payer pairs are possible and because of frequency, we tend to incline towards the pair with more support?\n",
    "#   - mainly because we are operating on minimal to no interactions between heterogeneous domains\n",
    "#   - What is the contribution to error rate for such cases?"
   ]
  },
  {
   "cell_type": "markdown",
   "id": "48a0ee8d",
   "metadata": {},
   "source": [
    "## Impl - using Invoice Number"
   ]
  },
  {
   "cell_type": "code",
   "execution_count": null,
   "id": "9d4920ea",
   "metadata": {},
   "outputs": [],
   "source": [
    "billers_name = inv_biller_ct.columns\n",
    "remove_cols = [\"All\", \"billerName\", \"invoiceNumberType\"]\n",
    "billers_name = list(set(billers_name) - set(remove_cols))\n",
    "# billers_name"
   ]
  },
  {
   "cell_type": "code",
   "execution_count": 49,
   "id": "710e2228",
   "metadata": {},
   "outputs": [],
   "source": [
    "for idx in tqdm(range(1, len(inv_biller_ct))):\n",
    "    \n",
    "    total_count_per_pattern = inv_biller_ct[\"All\"].iloc[idx]\n",
    "    for each_col in billers_name:\n",
    "        # total_count_of_each_biller = biller_ct[each_col].iloc[0]\n",
    "        inv_biller_ct[each_col].iloc[idx] = inv_biller_ct[each_col].iloc[idx] / total_count_per_pattern"
   ]
  },
  {
   "cell_type": "code",
   "execution_count": null,
   "id": "09cdb055",
   "metadata": {},
   "outputs": [
    {
     "ename": "NameError",
     "evalue": "name 'inv_payer_ct' is not defined",
     "output_type": "error",
     "traceback": [
      "\u001b[1;31m---------------------------------------------------------------------------\u001b[0m",
      "\u001b[1;31mNameError\u001b[0m                                 Traceback (most recent call last)",
      "Cell \u001b[1;32mIn[3], line 1\u001b[0m\n\u001b[1;32m----> 1\u001b[0m payer_name \u001b[38;5;241m=\u001b[39m \u001b[43minv_payer_ct\u001b[49m\u001b[38;5;241m.\u001b[39mcolumns\n\u001b[0;32m      2\u001b[0m remove_cols \u001b[38;5;241m=\u001b[39m [\u001b[38;5;124m\"\u001b[39m\u001b[38;5;124mAll\u001b[39m\u001b[38;5;124m\"\u001b[39m, \u001b[38;5;124m\"\u001b[39m\u001b[38;5;124mpayerName\u001b[39m\u001b[38;5;124m\"\u001b[39m, \u001b[38;5;124m\"\u001b[39m\u001b[38;5;124minvoiceNumberType\u001b[39m\u001b[38;5;124m\"\u001b[39m]\n\u001b[0;32m      3\u001b[0m payer_name \u001b[38;5;241m=\u001b[39m \u001b[38;5;28mlist\u001b[39m(\u001b[38;5;28mset\u001b[39m(payer_name) \u001b[38;5;241m-\u001b[39m \u001b[38;5;28mset\u001b[39m(remove_cols))\n",
      "\u001b[1;31mNameError\u001b[0m: name 'inv_payer_ct' is not defined"
     ]
    }
   ],
   "source": [
    "payer_name = inv_payer_ct.columns\n",
    "remove_cols = [\"All\", \"payerName\", \"invoiceNumberType\"]\n",
    "payer_name = list(set(payer_name) - set(remove_cols))"
   ]
  },
  {
   "cell_type": "code",
   "execution_count": null,
   "id": "753b9edc",
   "metadata": {},
   "outputs": [],
   "source": [
    "for idx in tqdm(range(len(inv_payer_ct))):\n",
    "    \n",
    "    total_count_per_pattern = inv_payer_ct[\"All\"].iloc[idx]\n",
    "    for each_col in payer_name:\n",
    "        inv_payer_ct[each_col].iloc[idx] = inv_payer_ct[each_col].iloc[idx] / total_count_per_pattern"
   ]
  },
  {
   "cell_type": "code",
   "execution_count": 8,
   "id": "6574e1d2",
   "metadata": {},
   "outputs": [],
   "source": [
    "inv_biller_ct = pd.read_csv(DATA_FOLDER_PATH + \"/inv_biller_ct_prob.csv\")\n",
    "inv_payer_ct = pd.read_csv(DATA_FOLDER_PATH + \"/inv_payer_ct_prob.csv\")"
   ]
  },
  {
   "cell_type": "code",
   "execution_count": null,
   "id": "10660e86",
   "metadata": {},
   "outputs": [],
   "source": [
    "def invoice_pattern_filter():\n",
    "    # for incoming document, get the invoice pattern and find possible biller and payers \n",
    "    # filter out unmatching biller and payer\n",
    "    # 1. if the diff is empty -> take the decision only using biller\n",
    "    # 2. if the diff is non-empty and reduced the possible combinations of the biller-payer combinations \n",
    "    # 3. if the diff is non-intersecting at all.\n",
    "    pass"
   ]
  },
  {
   "cell_type": "markdown",
   "id": "fe1b70c6",
   "metadata": {},
   "source": [
    "## Validations"
   ]
  },
  {
   "cell_type": "code",
   "execution_count": null,
   "id": "509680a1",
   "metadata": {},
   "outputs": [],
   "source": [
    "for idx in range(len(biller_ct)):\n",
    "    pattern = biller_ct[\"billerType\"].iloc[idx]\n",
    "    biller_ct_pattern_support = biller_ct[\"All\"].iloc[idx]\n",
    "    biller_ct_pattern_fil_ = biller_ct.drop([\"All\", \"billerType\"], axis=1)\n",
    "    biller_ct_pattern_fil_ = biller_ct_pattern_fil_[biller_ct_pattern_fil_.iloc[idx].sort_values(ascending=False).index[:3]].iloc[idx]\n",
    "    # print(biller_ct_pattern_fil_)\n",
    "    biller_ct_pattern_fil_[\"Support\"] = biller_ct_pattern_support\n",
    "    print(pattern, biller_ct_pattern_support, biller_ct_pattern_fil_.to_dict())"
   ]
  },
  {
   "cell_type": "code",
   "execution_count": null,
   "id": "aa2a520a",
   "metadata": {},
   "outputs": [],
   "source": [
    "for idx in range(len(payer_ct)):\n",
    "    pattern = payer_ct[\"payerType\"].iloc[idx]\n",
    "    payer_ct_pattern_support = payer_ct[\"All\"].iloc[idx]\n",
    "    payer_ct_pattern_fil_ = payer_ct.drop([\"All\", \"payerType\"], axis=1)\n",
    "    payer_ct_pattern_fil_ = payer_ct_pattern_fil_[payer_ct_pattern_fil_.iloc[idx].sort_values(ascending=False).index[:3]].iloc[idx]\n",
    "    # print(biller_ct_pattern_fil_)\n",
    "    payer_ct_pattern_fil_[\"Support\"] = payer_ct_pattern_support\n",
    "    print(pattern, payer_ct_pattern_support, payer_ct_pattern_fil_.to_dict())"
   ]
  },
  {
   "cell_type": "code",
   "execution_count": null,
   "id": "26b73aa5",
   "metadata": {},
   "outputs": [],
   "source": [
    "biller_patterns_with_interactions = {}\n",
    "columns = biller_ct.columns[1:-1]\n",
    "for idx in tqdm(range(len(biller_ct))):\n",
    "    pattern = biller_ct[\"billerType\"].iloc[idx]\n",
    "    # print(pattern)\n",
    "    non_zero_interactions = np.where(biller_ct[biller_ct[\"billerType\"] == pattern][columns].iloc[0] > 0)[0]\n",
    "    if len(non_zero_interactions) > 1:\n",
    "        biller_patterns_with_interactions[pattern] = len(non_zero_interactions)\n"
   ]
  },
  {
   "cell_type": "code",
   "execution_count": null,
   "id": "157b4899",
   "metadata": {},
   "outputs": [],
   "source": [
    "payer_patterns_with_interactions = {}\n",
    "columns = payer_ct.columns[1:-1]\n",
    "for idx in tqdm(range(len(payer_ct))):\n",
    "    pattern = payer_ct[\"payerType\"].iloc[idx]\n",
    "    # print(pattern)\n",
    "    non_zero_interactions = np.where(payer_ct[payer_ct[\"payerType\"] == pattern][columns].iloc[0] > 0)[0]\n",
    "    if len(non_zero_interactions) > 1:\n",
    "        payer_patterns_with_interactions[pattern] = len(non_zero_interactions)"
   ]
  },
  {
   "cell_type": "code",
   "execution_count": null,
   "id": "20fbd9e2",
   "metadata": {},
   "outputs": [],
   "source": [
    "len(biller_patterns_with_interactions), len(payer_patterns_with_interactions)"
   ]
  },
  {
   "cell_type": "code",
   "execution_count": null,
   "id": "962c107f",
   "metadata": {},
   "outputs": [],
   "source": [
    "929/6661, 1258/9229, 80/1264, 124/2400"
   ]
  },
  {
   "cell_type": "code",
   "execution_count": null,
   "id": "9418f2fb",
   "metadata": {},
   "outputs": [],
   "source": [
    "len(set(biller_patterns_with_interactions.values())), len(set(payer_patterns_with_interactions.values())), len(list(biller_patterns_with_interactions.values()))"
   ]
  },
  {
   "cell_type": "code",
   "execution_count": null,
   "id": "1aa13754",
   "metadata": {},
   "outputs": [],
   "source": [
    "len([v for v in payer_patterns_with_interactions.values() if v > 5]), len([v for v in biller_patterns_with_interactions.values() if v > 5])"
   ]
  },
  {
   "cell_type": "code",
   "execution_count": null,
   "id": "4c6470bc",
   "metadata": {},
   "outputs": [],
   "source": [
    "import matplotlib.pyplot as plt\n",
    "import seaborn as sns\n",
    "\n",
    "# sns.histplot(list(biller_patterns_with_interactions.values()))\n",
    "# plt.show()\n",
    "\n",
    "counts = [v for v in payer_patterns_with_interactions.values() if v < 20]\n",
    "\n",
    "sns.histplot(counts, kde=False)\n",
    "plt.title(\"Distribution of Interaction Counts per Pattern\")\n",
    "plt.xlabel(\"Number of Interactions\")\n",
    "plt.ylabel(\"Frequency\")\n",
    "plt.show()\n"
   ]
  },
  {
   "cell_type": "markdown",
   "id": "18b4ca23",
   "metadata": {},
   "source": [
    "## MLFlow tracking Setup"
   ]
  },
  {
   "cell_type": "code",
   "execution_count": 43,
   "id": "7ce1a73f",
   "metadata": {},
   "outputs": [],
   "source": [
    "mlflow.set_tracking_uri(\"http://127.0.0.1:8080\")\n",
    "# Sets the current active experiment to the \"invoice-processing\" experiment and\n",
    "# returns the Experiment metadata\n",
    "invoice_experiment = mlflow.set_experiment(\"invoice-processing\")\n",
    "\n",
    "# Define a run name for this iteration of training.\n",
    "# If this is not set, a unique name will be auto-generated for your run.\n",
    "run_name = \"invoice_processing_test\"\n",
    "\n",
    "# Define an artifact path that the model will be saved to.\n",
    "artifact_path = \"invoice_processing\""
   ]
  },
  {
   "cell_type": "markdown",
   "id": "d16988f0",
   "metadata": {},
   "source": [
    "## Batch Run"
   ]
  },
  {
   "cell_type": "code",
   "execution_count": 220,
   "id": "fccace83",
   "metadata": {},
   "outputs": [
    {
     "name": "stdout",
     "output_type": "stream",
     "text": [
      "Input [0.4, 0.5, 0.6] = Entropy: 0.44280025107061943 and Confidence: 0.07193350392492714\n",
      "Input [0.9, 0.1, 0] = Entropy: 0.14118174150460758 and Confidence: 0.7040967257106154\n",
      "Input [1, 0, 0] = Entropy: -0.0 and Confidence: 1.0\n",
      "Input [0.9, 0.05, 0.05] = Entropy: 0.17128474107100572 and Confidence: 0.6410037503534697\n"
     ]
    }
   ],
   "source": [
    "from math import log\n",
    "\n",
    "p1 = [0.4, 0.5, 0.6]\n",
    "p2 = [0.9, 0.1, 0] \n",
    "p3 = [1, 0, 0]\n",
    "p4 = [0.9, 0.05, 0.05]\n",
    "\n",
    "def compute_entropy_based_confidence(prob_dist):\n",
    "    # print(prob_dist)\n",
    "    H = -(sum([p*log(p, 10) for p in prob_dist if p != 0]))\n",
    "    C = 1 - H/log(3, 10)\n",
    "    return H, C\n",
    "\n",
    "for i in [p1, p2, p3, p4]:\n",
    "    H, C = compute_entropy_based_confidence(i)\n",
    "    print(f\"Input {i} = Entropy: {H} and Confidence: {C}\")"
   ]
  },
  {
   "cell_type": "code",
   "execution_count": null,
   "id": "0a3632eb",
   "metadata": {},
   "outputs": [],
   "source": [
    "def jaccard_similarity(a, b):\n",
    "    tokens_a = set(a.lower().split())\n",
    "    tokens_b = set(b.lower().split())\n",
    "    if not tokens_a or not tokens_b:\n",
    "        return 0.0\n",
    "    return len(tokens_a & tokens_b) / len(tokens_a | tokens_b)\n",
    "\n",
    "def compute_avg_jaccard_for_nonzero(df):\n",
    "    # Extract non-zero party names\n",
    "    row = df.iloc[0]\n",
    "    nonzero_parties = [col for col in df.columns[:-1] if row[col] > 0]\n",
    "\n",
    "    if len(nonzero_parties) < 2:\n",
    "        return 1  # Not enough for pairwise comparison\n",
    "\n",
    "    # print(nonzero_parties)\n",
    "    similarities = []; count = 0\n",
    "    for i in range(1):\n",
    "        for j in range(1, len(nonzero_parties)):\n",
    "            sim = jaccard_similarity(nonzero_parties[i], nonzero_parties[j])\n",
    "            if sim < 0.6:\n",
    "                count = count+1\n",
    "            similarities.append(sim)\n",
    "    # print(similarities)\n",
    "    return count\n",
    "\n",
    "def get_confusion_type(count_hetero):\n",
    "    if count_hetero == 0:\n",
    "        return \"Homogeneous\"\n",
    "    elif count_hetero == 1:\n",
    "        return \"Near Homogeneous\"\n",
    "    else:\n",
    "        return \"Heterogeneous\"\n"
   ]
  },
  {
   "cell_type": "code",
   "execution_count": 226,
   "id": "39bbbb18",
   "metadata": {},
   "outputs": [
    {
     "name": "stderr",
     "output_type": "stream",
     "text": [
      "C:\\Users\\pooja\\AppData\\Local\\Temp\\ipykernel_16564\\387748009.py:14: FutureWarning: A value is trying to be set on a copy of a DataFrame or Series through chained assignment using an inplace method.\n",
      "The behavior will change in pandas 3.0. This inplace method will never work because the intermediate object on which we are setting values always behaves as a copy.\n",
      "\n",
      "For example, when doing 'df[col].method(value, inplace=True)', try using 'df.method({col: value}, inplace=True)' or df[col] = df[col].method(value) instead, to perform the operation inplace on the original object.\n",
      "\n",
      "\n",
      "  batch[\"billerReference\"].fillna(\"-1\", inplace=True)\n",
      "C:\\Users\\pooja\\AppData\\Local\\Temp\\ipykernel_16564\\387748009.py:15: FutureWarning: A value is trying to be set on a copy of a DataFrame or Series through chained assignment using an inplace method.\n",
      "The behavior will change in pandas 3.0. This inplace method will never work because the intermediate object on which we are setting values always behaves as a copy.\n",
      "\n",
      "For example, when doing 'df[col].method(value, inplace=True)', try using 'df.method({col: value}, inplace=True)' or df[col] = df[col].method(value) instead, to perform the operation inplace on the original object.\n",
      "\n",
      "\n",
      "  batch[\"payerReference\"].fillna(\"-1\", inplace=True)\n"
     ]
    },
    {
     "data": {
      "text/html": [
       "<div>\n",
       "<style scoped>\n",
       "    .dataframe tbody tr th:only-of-type {\n",
       "        vertical-align: middle;\n",
       "    }\n",
       "\n",
       "    .dataframe tbody tr th {\n",
       "        vertical-align: top;\n",
       "    }\n",
       "\n",
       "    .dataframe thead th {\n",
       "        text-align: right;\n",
       "    }\n",
       "</style>\n",
       "<table border=\"1\" class=\"dataframe\">\n",
       "  <thead>\n",
       "    <tr style=\"text-align: right;\">\n",
       "      <th></th>\n",
       "      <th>billerReference</th>\n",
       "      <th>billerName</th>\n",
       "      <th>payerReference</th>\n",
       "      <th>payerName</th>\n",
       "      <th>invoiceNumber</th>\n",
       "      <th>output_type</th>\n",
       "      <th>identified_biller</th>\n",
       "      <th>identified_biller_entropy</th>\n",
       "      <th>identified_biller_confidence</th>\n",
       "      <th>identified_biller_type</th>\n",
       "      <th>identified_payer</th>\n",
       "      <th>identified_payer_entropy</th>\n",
       "      <th>identified_payer_confidence</th>\n",
       "      <th>identified_payer_type</th>\n",
       "      <th>prob</th>\n",
       "    </tr>\n",
       "  </thead>\n",
       "  <tbody>\n",
       "    <tr>\n",
       "      <th>0</th>\n",
       "      <td>4050963213</td>\n",
       "      <td>Abu Ghazaleh Intellectual Property</td>\n",
       "      <td>62554W JO</td>\n",
       "      <td>Ruttensperger Lachnit Trossin Gomoll</td>\n",
       "      <td>20250081617</td>\n",
       "      <td></td>\n",
       "      <td></td>\n",
       "      <td>-1</td>\n",
       "      <td>-1</td>\n",
       "      <td></td>\n",
       "      <td></td>\n",
       "      <td>-1</td>\n",
       "      <td>-1</td>\n",
       "      <td></td>\n",
       "      <td>-1</td>\n",
       "    </tr>\n",
       "    <tr>\n",
       "      <th>1</th>\n",
       "      <td>4080907444</td>\n",
       "      <td>Abu Ghazaleh Intellectual Property</td>\n",
       "      <td>KI/kf/FT-27288</td>\n",
       "      <td>FUJIMarks Japan P.C.</td>\n",
       "      <td>2025036139</td>\n",
       "      <td></td>\n",
       "      <td></td>\n",
       "      <td>-1</td>\n",
       "      <td>-1</td>\n",
       "      <td></td>\n",
       "      <td></td>\n",
       "      <td>-1</td>\n",
       "      <td>-1</td>\n",
       "      <td></td>\n",
       "      <td>-1</td>\n",
       "    </tr>\n",
       "    <tr>\n",
       "      <th>2</th>\n",
       "      <td>4140900122</td>\n",
       "      <td>Abu Ghazaleh Intellectual Property</td>\n",
       "      <td>TRP/RCG/144447</td>\n",
       "      <td>Stevens Hewlett &amp; Perkins</td>\n",
       "      <td>20250171469</td>\n",
       "      <td></td>\n",
       "      <td></td>\n",
       "      <td>-1</td>\n",
       "      <td>-1</td>\n",
       "      <td></td>\n",
       "      <td></td>\n",
       "      <td>-1</td>\n",
       "      <td>-1</td>\n",
       "      <td></td>\n",
       "      <td>-1</td>\n",
       "    </tr>\n",
       "    <tr>\n",
       "      <th>3</th>\n",
       "      <td>4050917242</td>\n",
       "      <td>Abu Ghazaleh Intellectual Property</td>\n",
       "      <td>294409</td>\n",
       "      <td>DENNEMEYER &amp; COMPANY S.a.r.l</td>\n",
       "      <td>20250081624</td>\n",
       "      <td></td>\n",
       "      <td></td>\n",
       "      <td>-1</td>\n",
       "      <td>-1</td>\n",
       "      <td></td>\n",
       "      <td></td>\n",
       "      <td>-1</td>\n",
       "      <td>-1</td>\n",
       "      <td></td>\n",
       "      <td>-1</td>\n",
       "    </tr>\n",
       "    <tr>\n",
       "      <th>4</th>\n",
       "      <td>4060978398</td>\n",
       "      <td>Abu Ghazaleh Intellectual Property</td>\n",
       "      <td>62508W QA-2</td>\n",
       "      <td>Ruttensperger Lachnit Trossin Gomoll</td>\n",
       "      <td>20250093086</td>\n",
       "      <td></td>\n",
       "      <td></td>\n",
       "      <td>-1</td>\n",
       "      <td>-1</td>\n",
       "      <td></td>\n",
       "      <td></td>\n",
       "      <td>-1</td>\n",
       "      <td>-1</td>\n",
       "      <td></td>\n",
       "      <td>-1</td>\n",
       "    </tr>\n",
       "    <tr>\n",
       "      <th>...</th>\n",
       "      <td>...</td>\n",
       "      <td>...</td>\n",
       "      <td>...</td>\n",
       "      <td>...</td>\n",
       "      <td>...</td>\n",
       "      <td>...</td>\n",
       "      <td>...</td>\n",
       "      <td>...</td>\n",
       "      <td>...</td>\n",
       "      <td>...</td>\n",
       "      <td>...</td>\n",
       "      <td>...</td>\n",
       "      <td>...</td>\n",
       "      <td>...</td>\n",
       "      <td>...</td>\n",
       "    </tr>\n",
       "    <tr>\n",
       "      <th>3192</th>\n",
       "      <td>REF</td>\n",
       "      <td>Joyce A. Tan &amp; Partners</td>\n",
       "      <td>P94816.SG</td>\n",
       "      <td>Griffith Hack</td>\n",
       "      <td>17002624</td>\n",
       "      <td></td>\n",
       "      <td></td>\n",
       "      <td>-1</td>\n",
       "      <td>-1</td>\n",
       "      <td></td>\n",
       "      <td></td>\n",
       "      <td>-1</td>\n",
       "      <td>-1</td>\n",
       "      <td></td>\n",
       "      <td>-1</td>\n",
       "    </tr>\n",
       "    <tr>\n",
       "      <th>3193</th>\n",
       "      <td>REF</td>\n",
       "      <td>Bereskin &amp; Parr</td>\n",
       "      <td>P105651.CA</td>\n",
       "      <td>Griffith Hack</td>\n",
       "      <td>900218243</td>\n",
       "      <td></td>\n",
       "      <td></td>\n",
       "      <td>-1</td>\n",
       "      <td>-1</td>\n",
       "      <td></td>\n",
       "      <td></td>\n",
       "      <td>-1</td>\n",
       "      <td>-1</td>\n",
       "      <td></td>\n",
       "      <td>-1</td>\n",
       "    </tr>\n",
       "    <tr>\n",
       "      <th>3194</th>\n",
       "      <td>REF</td>\n",
       "      <td>Hiraki &amp; Associates</td>\n",
       "      <td>P86103.JP</td>\n",
       "      <td>Griffith Hack</td>\n",
       "      <td>172372</td>\n",
       "      <td></td>\n",
       "      <td></td>\n",
       "      <td>-1</td>\n",
       "      <td>-1</td>\n",
       "      <td></td>\n",
       "      <td></td>\n",
       "      <td>-1</td>\n",
       "      <td>-1</td>\n",
       "      <td></td>\n",
       "      <td>-1</td>\n",
       "    </tr>\n",
       "    <tr>\n",
       "      <th>3195</th>\n",
       "      <td>REF</td>\n",
       "      <td>Joyce A. Tan &amp; Partners</td>\n",
       "      <td>P90385.SG</td>\n",
       "      <td>Griffith Hack</td>\n",
       "      <td>17002660</td>\n",
       "      <td></td>\n",
       "      <td></td>\n",
       "      <td>-1</td>\n",
       "      <td>-1</td>\n",
       "      <td></td>\n",
       "      <td></td>\n",
       "      <td>-1</td>\n",
       "      <td>-1</td>\n",
       "      <td></td>\n",
       "      <td>-1</td>\n",
       "    </tr>\n",
       "    <tr>\n",
       "      <th>3196</th>\n",
       "      <td>REF</td>\n",
       "      <td>MAEDA AND PARTNERS IP</td>\n",
       "      <td>P91175.JP</td>\n",
       "      <td>Griffith Hack</td>\n",
       "      <td>2017-09050</td>\n",
       "      <td></td>\n",
       "      <td></td>\n",
       "      <td>-1</td>\n",
       "      <td>-1</td>\n",
       "      <td></td>\n",
       "      <td></td>\n",
       "      <td>-1</td>\n",
       "      <td>-1</td>\n",
       "      <td></td>\n",
       "      <td>-1</td>\n",
       "    </tr>\n",
       "  </tbody>\n",
       "</table>\n",
       "<p>3197 rows × 15 columns</p>\n",
       "</div>"
      ],
      "text/plain": [
       "     billerReference                          billerName  payerReference  \\\n",
       "0         4050963213  Abu Ghazaleh Intellectual Property       62554W JO   \n",
       "1         4080907444  Abu Ghazaleh Intellectual Property  KI/kf/FT-27288   \n",
       "2         4140900122  Abu Ghazaleh Intellectual Property  TRP/RCG/144447   \n",
       "3         4050917242  Abu Ghazaleh Intellectual Property         294409    \n",
       "4         4060978398  Abu Ghazaleh Intellectual Property     62508W QA-2   \n",
       "...              ...                                 ...             ...   \n",
       "3192             REF             Joyce A. Tan & Partners       P94816.SG   \n",
       "3193             REF                     Bereskin & Parr      P105651.CA   \n",
       "3194             REF                 Hiraki & Associates       P86103.JP   \n",
       "3195             REF             Joyce A. Tan & Partners       P90385.SG   \n",
       "3196             REF               MAEDA AND PARTNERS IP       P91175.JP   \n",
       "\n",
       "                                 payerName invoiceNumber output_type  \\\n",
       "0     Ruttensperger Lachnit Trossin Gomoll   20250081617               \n",
       "1                     FUJIMarks Japan P.C.    2025036139               \n",
       "2                Stevens Hewlett & Perkins   20250171469               \n",
       "3             DENNEMEYER & COMPANY S.a.r.l   20250081624               \n",
       "4     Ruttensperger Lachnit Trossin Gomoll   20250093086               \n",
       "...                                    ...           ...         ...   \n",
       "3192                         Griffith Hack      17002624               \n",
       "3193                         Griffith Hack     900218243               \n",
       "3194                         Griffith Hack        172372               \n",
       "3195                         Griffith Hack      17002660               \n",
       "3196                         Griffith Hack    2017-09050               \n",
       "\n",
       "     identified_biller  identified_biller_entropy  \\\n",
       "0                                              -1   \n",
       "1                                              -1   \n",
       "2                                              -1   \n",
       "3                                              -1   \n",
       "4                                              -1   \n",
       "...                ...                        ...   \n",
       "3192                                           -1   \n",
       "3193                                           -1   \n",
       "3194                                           -1   \n",
       "3195                                           -1   \n",
       "3196                                           -1   \n",
       "\n",
       "      identified_biller_confidence identified_biller_type identified_payer  \\\n",
       "0                               -1                                           \n",
       "1                               -1                                           \n",
       "2                               -1                                           \n",
       "3                               -1                                           \n",
       "4                               -1                                           \n",
       "...                            ...                    ...              ...   \n",
       "3192                            -1                                           \n",
       "3193                            -1                                           \n",
       "3194                            -1                                           \n",
       "3195                            -1                                           \n",
       "3196                            -1                                           \n",
       "\n",
       "      identified_payer_entropy  identified_payer_confidence  \\\n",
       "0                           -1                           -1   \n",
       "1                           -1                           -1   \n",
       "2                           -1                           -1   \n",
       "3                           -1                           -1   \n",
       "4                           -1                           -1   \n",
       "...                        ...                          ...   \n",
       "3192                        -1                           -1   \n",
       "3193                        -1                           -1   \n",
       "3194                        -1                           -1   \n",
       "3195                        -1                           -1   \n",
       "3196                        -1                           -1   \n",
       "\n",
       "     identified_payer_type  prob  \n",
       "0                             -1  \n",
       "1                             -1  \n",
       "2                             -1  \n",
       "3                             -1  \n",
       "4                             -1  \n",
       "...                    ...   ...  \n",
       "3192                          -1  \n",
       "3193                          -1  \n",
       "3194                          -1  \n",
       "3195                          -1  \n",
       "3196                          -1  \n",
       "\n",
       "[3197 rows x 15 columns]"
      ]
     },
     "execution_count": 226,
     "metadata": {},
     "output_type": "execute_result"
    }
   ],
   "source": [
    "# Load data\n",
    "batch = pd.read_csv(DATA_FOLDER_PATH + \"/Prod_Invoice_14_June_2025_to_08_July_2025.csv\")\n",
    "batch = batch[BILLER_REF_NAME_COLS + PAYER_REF_NAME_COLS + [\"invoiceNumber\"]]\n",
    "batch[\"output_type\"] = \"\"\n",
    "batch[\"identified_biller\"] = \"\"\n",
    "batch[\"identified_biller_entropy\"] = -1\n",
    "batch[\"identified_biller_confidence\"] = -1\n",
    "batch[\"identified_biller_type\"] = \"\"\n",
    "batch[\"identified_payer\"] = \"\"\n",
    "batch[\"identified_payer_entropy\"] = -1\n",
    "batch[\"identified_payer_confidence\"] = -1\n",
    "batch[\"identified_payer_type\"] = \"\"\n",
    "batch[\"prob\"] = -1\n",
    "batch[\"billerReference\"].fillna(\"-1\", inplace=True)\n",
    "batch[\"payerReference\"].fillna(\"-1\", inplace=True)\n",
    "batch"
   ]
  },
  {
   "cell_type": "code",
   "execution_count": 227,
   "id": "00455b54",
   "metadata": {},
   "outputs": [
    {
     "name": "stderr",
     "output_type": "stream",
     "text": [
      "  0%|          | 0/3197 [00:00<?, ?it/s]"
     ]
    },
    {
     "name": "stderr",
     "output_type": "stream",
     "text": [
      "C:\\Users\\pooja\\AppData\\Local\\Temp\\ipykernel_16564\\2143712954.py:24: FutureWarning: Setting an item of incompatible dtype is deprecated and will raise an error in a future version of pandas. Value '0.04703982760688855' has dtype incompatible with int64, please explicitly cast to a compatible dtype first.\n",
      "  batch.loc[idx, \"identified_biller_entropy\"] = H_biller\n",
      "C:\\Users\\pooja\\AppData\\Local\\Temp\\ipykernel_16564\\2143712954.py:25: FutureWarning: Setting an item of incompatible dtype is deprecated and will raise an error in a future version of pandas. Value '0.9014090712967141' has dtype incompatible with int64, please explicitly cast to a compatible dtype first.\n",
      "  batch.loc[idx, \"identified_biller_confidence\"] = C_biller\n",
      "C:\\Users\\pooja\\AppData\\Local\\Temp\\ipykernel_16564\\2143712954.py:26: FutureWarning: Setting an item of incompatible dtype is deprecated and will raise an error in a future version of pandas. Value '0.35419823455949906' has dtype incompatible with int64, please explicitly cast to a compatible dtype first.\n",
      "  batch.loc[idx, \"identified_payer_entropy\"] = H_payer\n",
      "C:\\Users\\pooja\\AppData\\Local\\Temp\\ipykernel_16564\\2143712954.py:27: FutureWarning: Setting an item of incompatible dtype is deprecated and will raise an error in a future version of pandas. Value '0.2576347604392265' has dtype incompatible with int64, please explicitly cast to a compatible dtype first.\n",
      "  batch.loc[idx, \"identified_payer_confidence\"] = C_payer\n",
      "C:\\Users\\pooja\\AppData\\Local\\Temp\\ipykernel_16564\\2143712954.py:40: FutureWarning: Setting an item of incompatible dtype is deprecated and will raise an error in a future version of pandas. Value '0.6' has dtype incompatible with int64, please explicitly cast to a compatible dtype first.\n",
      "  batch.loc[idx, \"prob\"] = result_pair[max_key][1]\n",
      "100%|██████████| 3197/3197 [03:49<00:00, 13.92it/s]\n"
     ]
    }
   ],
   "source": [
    "# run for the batch\n",
    "\n",
    "for idx in tqdm(range(len(batch))):\n",
    "    # try:\n",
    "        input_biller = batch[\"billerReference\"].iloc[idx]\n",
    "        input_payer = batch[\"payerReference\"].iloc[idx]\n",
    "        \n",
    "        results = get_top_3_combinations(input_biller, input_payer)\n",
    "\n",
    "        # no need to process for records with output_type == \"success\"\n",
    "        if isinstance(results[0], str) or isinstance(results[1], str):\n",
    "            if isinstance(results[0], str):\n",
    "                batch.loc[idx, \"output_type\"] = \"biller_pattern_missing\"\n",
    "            elif isinstance(results[1], str):\n",
    "                batch.loc[idx, \"output_type\"] = \"payer_pattern_missing\"\n",
    "        else:\n",
    "            result_pair, output_type, pattern_pair_support = get_combination_counts(results[0], results[1], results[2], results[3])\n",
    "            if output_type == \"success\":\n",
    "                top_biller = results[0]\n",
    "                top_payer = results[1]\n",
    "                # Getting independent billers and payers prob dist confidence\n",
    "                H_biller, C_biller = compute_entropy_based_confidence(top_biller.iloc[0].values[:-1])\n",
    "                H_payer, C_payer = compute_entropy_based_confidence(top_payer.iloc[0].values[:-1])\n",
    "                batch.loc[idx, \"identified_biller_entropy\"] = H_biller\n",
    "                batch.loc[idx, \"identified_biller_confidence\"] = C_biller\n",
    "                batch.loc[idx, \"identified_payer_entropy\"] = H_payer \n",
    "                batch.loc[idx, \"identified_payer_confidence\"] = C_payer\n",
    "\n",
    "                # Getting jaccard scores \n",
    "                J_score_biller = compute_avg_jaccard_for_nonzero(top_biller)\n",
    "                J_score_payer = compute_avg_jaccard_for_nonzero(top_payer)\n",
    "                batch.loc[idx, \"identified_biller_type\"] = get_confusion_type(J_score_biller)\n",
    "                batch.loc[idx, \"identifies_payer_type\"] = get_confusion_type(J_score_payer)\n",
    "                \n",
    "                # Getting the pair with highest probability \n",
    "                max_key = max(result_pair, key=lambda k: result_pair[k][1])\n",
    "                batch.loc[idx, \"output_type\"] = output_type\n",
    "                batch.loc[idx, \"identified_biller\"] = max_key[0]\n",
    "                batch.loc[idx, \"identified_payer\"] = max_key[1]\n",
    "                batch.loc[idx, \"prob\"] = result_pair[max_key][1]\n",
    "            else:\n",
    "                batch.loc[idx, \"output_type\"] = output_type\n",
    "    # except:\n",
    "        # print(idx)   \n",
    "        # break"
   ]
  },
  {
   "cell_type": "markdown",
   "id": "568f3bff",
   "metadata": {},
   "source": [
    "## Batch Run - Evaluation"
   ]
  },
  {
   "cell_type": "code",
   "execution_count": 228,
   "id": "dcb48aec",
   "metadata": {},
   "outputs": [
    {
     "data": {
      "text/plain": [
       "output_type\n",
       "success                      1871\n",
       "no_combinations_available     642\n",
       "biller_pattern_missing        357\n",
       "payer_pattern_missing         327\n",
       "Name: count, dtype: int64"
      ]
     },
     "execution_count": 228,
     "metadata": {},
     "output_type": "execute_result"
    }
   ],
   "source": [
    "# compare true vs pred and compute error rate\n",
    "batch[\"output_type\"].value_counts()"
   ]
  },
  {
   "cell_type": "code",
   "execution_count": 229,
   "id": "5a956181",
   "metadata": {},
   "outputs": [
    {
     "data": {
      "text/plain": [
       "prob\n",
       "1.000000    1222\n",
       "0.988417      65\n",
       "0.938650      41\n",
       "0.890244      34\n",
       "0.666667      28\n",
       "            ... \n",
       "0.664671       1\n",
       "0.625000       1\n",
       "0.250000       1\n",
       "0.906433       1\n",
       "0.881279       1\n",
       "Name: count, Length: 118, dtype: int64"
      ]
     },
     "execution_count": 229,
     "metadata": {},
     "output_type": "execute_result"
    }
   ],
   "source": [
    "batch[batch[\"output_type\"] == \"success\"][\"prob\"].value_counts()"
   ]
  },
  {
   "cell_type": "code",
   "execution_count": 230,
   "id": "a6c7cd34",
   "metadata": {},
   "outputs": [
    {
     "data": {
      "text/html": [
       "<div>\n",
       "<style scoped>\n",
       "    .dataframe tbody tr th:only-of-type {\n",
       "        vertical-align: middle;\n",
       "    }\n",
       "\n",
       "    .dataframe tbody tr th {\n",
       "        vertical-align: top;\n",
       "    }\n",
       "\n",
       "    .dataframe thead th {\n",
       "        text-align: right;\n",
       "    }\n",
       "</style>\n",
       "<table border=\"1\" class=\"dataframe\">\n",
       "  <thead>\n",
       "    <tr style=\"text-align: right;\">\n",
       "      <th></th>\n",
       "      <th>billerReference</th>\n",
       "      <th>billerName</th>\n",
       "      <th>payerReference</th>\n",
       "      <th>payerName</th>\n",
       "      <th>invoiceNumber</th>\n",
       "      <th>output_type</th>\n",
       "      <th>identified_biller</th>\n",
       "      <th>identified_biller_entropy</th>\n",
       "      <th>identified_biller_confidence</th>\n",
       "      <th>identified_biller_type</th>\n",
       "      <th>identified_payer</th>\n",
       "      <th>identified_payer_entropy</th>\n",
       "      <th>identified_payer_confidence</th>\n",
       "      <th>identified_payer_type</th>\n",
       "      <th>prob</th>\n",
       "      <th>identifies_payer_type</th>\n",
       "    </tr>\n",
       "  </thead>\n",
       "  <tbody>\n",
       "    <tr>\n",
       "      <th>1</th>\n",
       "      <td>4080907444</td>\n",
       "      <td>Abu Ghazaleh Intellectual Property</td>\n",
       "      <td>KI/kf/FT-27288</td>\n",
       "      <td>FUJIMarks Japan P.C.</td>\n",
       "      <td>2025036139</td>\n",
       "      <td>success</td>\n",
       "      <td>Abu Ghazaleh Intellectual Property</td>\n",
       "      <td>0.047040</td>\n",
       "      <td>0.901409</td>\n",
       "      <td>Near Homogeneous</td>\n",
       "      <td>Fujimarks Japan</td>\n",
       "      <td>-0.000000</td>\n",
       "      <td>1.000000</td>\n",
       "      <td></td>\n",
       "      <td>1.000000</td>\n",
       "      <td>Near Homogeneous</td>\n",
       "    </tr>\n",
       "    <tr>\n",
       "      <th>2</th>\n",
       "      <td>4140900122</td>\n",
       "      <td>Abu Ghazaleh Intellectual Property</td>\n",
       "      <td>TRP/RCG/144447</td>\n",
       "      <td>Stevens Hewlett &amp; Perkins</td>\n",
       "      <td>20250171469</td>\n",
       "      <td>success</td>\n",
       "      <td>Abu Ghazaleh Intellectual Property</td>\n",
       "      <td>0.047040</td>\n",
       "      <td>0.901409</td>\n",
       "      <td>Near Homogeneous</td>\n",
       "      <td>Stevens Hewlett &amp; Perkins</td>\n",
       "      <td>0.046281</td>\n",
       "      <td>0.902999</td>\n",
       "      <td></td>\n",
       "      <td>1.000000</td>\n",
       "      <td>Homogeneous</td>\n",
       "    </tr>\n",
       "    <tr>\n",
       "      <th>3</th>\n",
       "      <td>4050917242</td>\n",
       "      <td>Abu Ghazaleh Intellectual Property</td>\n",
       "      <td>294409</td>\n",
       "      <td>DENNEMEYER &amp; COMPANY S.a.r.l</td>\n",
       "      <td>20250081624</td>\n",
       "      <td>success</td>\n",
       "      <td>Abu Ghazaleh Intellectual Property</td>\n",
       "      <td>0.047040</td>\n",
       "      <td>0.901409</td>\n",
       "      <td>Near Homogeneous</td>\n",
       "      <td>DENNEMEYER &amp; COMPANY S.a.r.l</td>\n",
       "      <td>0.298743</td>\n",
       "      <td>0.373864</td>\n",
       "      <td></td>\n",
       "      <td>0.919540</td>\n",
       "      <td>Heterogeneous</td>\n",
       "    </tr>\n",
       "    <tr>\n",
       "      <th>7</th>\n",
       "      <td>4050986492</td>\n",
       "      <td>Abu Ghazaleh Intellectual Property</td>\n",
       "      <td>ENE3P3JOW</td>\n",
       "      <td>PGA S.P.A. (Milan)</td>\n",
       "      <td>20250081634</td>\n",
       "      <td>success</td>\n",
       "      <td>Abu Ghazaleh Intellectual Property</td>\n",
       "      <td>0.047040</td>\n",
       "      <td>0.901409</td>\n",
       "      <td>Near Homogeneous</td>\n",
       "      <td>PGA S.P.A. (Milan)</td>\n",
       "      <td>0.079152</td>\n",
       "      <td>0.834105</td>\n",
       "      <td></td>\n",
       "      <td>0.940678</td>\n",
       "      <td>Near Homogeneous</td>\n",
       "    </tr>\n",
       "    <tr>\n",
       "      <th>11</th>\n",
       "      <td>40120961346</td>\n",
       "      <td>Abu Ghazaleh Intellectual Property</td>\n",
       "      <td>Magdalena</td>\n",
       "      <td>Instra Corporation Pty. Ltd</td>\n",
       "      <td>202504110401</td>\n",
       "      <td>success</td>\n",
       "      <td>Abu Ghazaleh Intellectual Property</td>\n",
       "      <td>0.029466</td>\n",
       "      <td>0.938241</td>\n",
       "      <td>Near Homogeneous</td>\n",
       "      <td>Instra Corporation Pty. Ltd</td>\n",
       "      <td>-0.000000</td>\n",
       "      <td>1.000000</td>\n",
       "      <td></td>\n",
       "      <td>1.000000</td>\n",
       "      <td>Near Homogeneous</td>\n",
       "    </tr>\n",
       "    <tr>\n",
       "      <th>...</th>\n",
       "      <td>...</td>\n",
       "      <td>...</td>\n",
       "      <td>...</td>\n",
       "      <td>...</td>\n",
       "      <td>...</td>\n",
       "      <td>...</td>\n",
       "      <td>...</td>\n",
       "      <td>...</td>\n",
       "      <td>...</td>\n",
       "      <td>...</td>\n",
       "      <td>...</td>\n",
       "      <td>...</td>\n",
       "      <td>...</td>\n",
       "      <td>...</td>\n",
       "      <td>...</td>\n",
       "      <td>...</td>\n",
       "    </tr>\n",
       "    <tr>\n",
       "      <th>3173</th>\n",
       "      <td>6.11070/PCTN</td>\n",
       "      <td>Cruz Marcelo &amp; Tenefrancia - USD</td>\n",
       "      <td>2420-301935PH</td>\n",
       "      <td>Gorodissky &amp; Partners, Ltd - Russia</td>\n",
       "      <td>05353</td>\n",
       "      <td>success</td>\n",
       "      <td>Cruz Marcelo &amp; Tenefrancia - USD</td>\n",
       "      <td>-0.000000</td>\n",
       "      <td>1.000000</td>\n",
       "      <td>Near Homogeneous</td>\n",
       "      <td>Gorodissky &amp; Partners, Ltd - Russia</td>\n",
       "      <td>0.080184</td>\n",
       "      <td>0.831943</td>\n",
       "      <td></td>\n",
       "      <td>1.000000</td>\n",
       "      <td>Homogeneous</td>\n",
       "    </tr>\n",
       "    <tr>\n",
       "      <th>3174</th>\n",
       "      <td>P41530EP</td>\n",
       "      <td>Schlich Ltd</td>\n",
       "      <td>25873EPP00</td>\n",
       "      <td>Adams Pluck - GBP</td>\n",
       "      <td>20456</td>\n",
       "      <td>success</td>\n",
       "      <td>Schlich Ltd</td>\n",
       "      <td>0.425178</td>\n",
       "      <td>0.108868</td>\n",
       "      <td>Heterogeneous</td>\n",
       "      <td>Adams Pluck</td>\n",
       "      <td>0.012891</td>\n",
       "      <td>0.972983</td>\n",
       "      <td></td>\n",
       "      <td>0.882353</td>\n",
       "      <td>Heterogeneous</td>\n",
       "    </tr>\n",
       "    <tr>\n",
       "      <th>3175</th>\n",
       "      <td>P3151CA00</td>\n",
       "      <td>BENOIT &amp; COTE - CAD</td>\n",
       "      <td>P1318CAPC</td>\n",
       "      <td>Franke Hyland - CAD</td>\n",
       "      <td>9873331</td>\n",
       "      <td>success</td>\n",
       "      <td>BENOIT &amp; COTE - CAD</td>\n",
       "      <td>0.309666</td>\n",
       "      <td>0.350969</td>\n",
       "      <td>Heterogeneous</td>\n",
       "      <td>Franke Hyland</td>\n",
       "      <td>0.275482</td>\n",
       "      <td>0.422617</td>\n",
       "      <td></td>\n",
       "      <td>1.000000</td>\n",
       "      <td>Heterogeneous</td>\n",
       "    </tr>\n",
       "    <tr>\n",
       "      <th>3176</th>\n",
       "      <td>402721505</td>\n",
       "      <td>Abu Ghazaleh Intellectual Property</td>\n",
       "      <td>WALK70-01429660</td>\n",
       "      <td>Munck Wilson Mandala LLP</td>\n",
       "      <td>20240034778</td>\n",
       "      <td>success</td>\n",
       "      <td>Abu Ghazaleh Intellectual Property</td>\n",
       "      <td>0.315261</td>\n",
       "      <td>0.339243</td>\n",
       "      <td>Heterogeneous</td>\n",
       "      <td>Munck Wilson Mandala LLP</td>\n",
       "      <td>-0.000000</td>\n",
       "      <td>1.000000</td>\n",
       "      <td></td>\n",
       "      <td>1.000000</td>\n",
       "      <td>Near Homogeneous</td>\n",
       "    </tr>\n",
       "    <tr>\n",
       "      <th>3184</th>\n",
       "      <td>283967-00004</td>\n",
       "      <td>Ashfords LLP</td>\n",
       "      <td>24345GBT00</td>\n",
       "      <td>Adams Pluck</td>\n",
       "      <td>661774</td>\n",
       "      <td>success</td>\n",
       "      <td>McCarter &amp; English, LLP</td>\n",
       "      <td>0.421317</td>\n",
       "      <td>0.116960</td>\n",
       "      <td>Heterogeneous</td>\n",
       "      <td>Adams Pluck</td>\n",
       "      <td>0.012891</td>\n",
       "      <td>0.972983</td>\n",
       "      <td></td>\n",
       "      <td>1.000000</td>\n",
       "      <td>Heterogeneous</td>\n",
       "    </tr>\n",
       "  </tbody>\n",
       "</table>\n",
       "<p>1565 rows × 16 columns</p>\n",
       "</div>"
      ],
      "text/plain": [
       "     billerReference                          billerName   payerReference  \\\n",
       "1         4080907444  Abu Ghazaleh Intellectual Property   KI/kf/FT-27288   \n",
       "2         4140900122  Abu Ghazaleh Intellectual Property   TRP/RCG/144447   \n",
       "3         4050917242  Abu Ghazaleh Intellectual Property          294409    \n",
       "7         4050986492  Abu Ghazaleh Intellectual Property        ENE3P3JOW   \n",
       "11       40120961346  Abu Ghazaleh Intellectual Property       Magdalena    \n",
       "...              ...                                 ...              ...   \n",
       "3173    6.11070/PCTN    Cruz Marcelo & Tenefrancia - USD    2420-301935PH   \n",
       "3174        P41530EP                         Schlich Ltd       25873EPP00   \n",
       "3175       P3151CA00                 BENOIT & COTE - CAD        P1318CAPC   \n",
       "3176       402721505  Abu Ghazaleh Intellectual Property  WALK70-01429660   \n",
       "3184    283967-00004                        Ashfords LLP       24345GBT00   \n",
       "\n",
       "                                payerName invoiceNumber output_type  \\\n",
       "1                    FUJIMarks Japan P.C.    2025036139     success   \n",
       "2               Stevens Hewlett & Perkins   20250171469     success   \n",
       "3            DENNEMEYER & COMPANY S.a.r.l   20250081624     success   \n",
       "7                      PGA S.P.A. (Milan)   20250081634     success   \n",
       "11            Instra Corporation Pty. Ltd  202504110401     success   \n",
       "...                                   ...           ...         ...   \n",
       "3173  Gorodissky & Partners, Ltd - Russia         05353     success   \n",
       "3174                    Adams Pluck - GBP         20456     success   \n",
       "3175                  Franke Hyland - CAD       9873331     success   \n",
       "3176             Munck Wilson Mandala LLP   20240034778     success   \n",
       "3184                          Adams Pluck        661774     success   \n",
       "\n",
       "                       identified_biller  identified_biller_entropy  \\\n",
       "1     Abu Ghazaleh Intellectual Property                   0.047040   \n",
       "2     Abu Ghazaleh Intellectual Property                   0.047040   \n",
       "3     Abu Ghazaleh Intellectual Property                   0.047040   \n",
       "7     Abu Ghazaleh Intellectual Property                   0.047040   \n",
       "11    Abu Ghazaleh Intellectual Property                   0.029466   \n",
       "...                                  ...                        ...   \n",
       "3173    Cruz Marcelo & Tenefrancia - USD                  -0.000000   \n",
       "3174                         Schlich Ltd                   0.425178   \n",
       "3175                 BENOIT & COTE - CAD                   0.309666   \n",
       "3176  Abu Ghazaleh Intellectual Property                   0.315261   \n",
       "3184             McCarter & English, LLP                   0.421317   \n",
       "\n",
       "      identified_biller_confidence identified_biller_type  \\\n",
       "1                         0.901409       Near Homogeneous   \n",
       "2                         0.901409       Near Homogeneous   \n",
       "3                         0.901409       Near Homogeneous   \n",
       "7                         0.901409       Near Homogeneous   \n",
       "11                        0.938241       Near Homogeneous   \n",
       "...                            ...                    ...   \n",
       "3173                      1.000000       Near Homogeneous   \n",
       "3174                      0.108868          Heterogeneous   \n",
       "3175                      0.350969          Heterogeneous   \n",
       "3176                      0.339243          Heterogeneous   \n",
       "3184                      0.116960          Heterogeneous   \n",
       "\n",
       "                         identified_payer  identified_payer_entropy  \\\n",
       "1                         Fujimarks Japan                 -0.000000   \n",
       "2               Stevens Hewlett & Perkins                  0.046281   \n",
       "3            DENNEMEYER & COMPANY S.a.r.l                  0.298743   \n",
       "7                      PGA S.P.A. (Milan)                  0.079152   \n",
       "11            Instra Corporation Pty. Ltd                 -0.000000   \n",
       "...                                   ...                       ...   \n",
       "3173  Gorodissky & Partners, Ltd - Russia                  0.080184   \n",
       "3174                          Adams Pluck                  0.012891   \n",
       "3175                        Franke Hyland                  0.275482   \n",
       "3176             Munck Wilson Mandala LLP                 -0.000000   \n",
       "3184                          Adams Pluck                  0.012891   \n",
       "\n",
       "      identified_payer_confidence identified_payer_type      prob  \\\n",
       "1                        1.000000                        1.000000   \n",
       "2                        0.902999                        1.000000   \n",
       "3                        0.373864                        0.919540   \n",
       "7                        0.834105                        0.940678   \n",
       "11                       1.000000                        1.000000   \n",
       "...                           ...                   ...       ...   \n",
       "3173                     0.831943                        1.000000   \n",
       "3174                     0.972983                        0.882353   \n",
       "3175                     0.422617                        1.000000   \n",
       "3176                     1.000000                        1.000000   \n",
       "3184                     0.972983                        1.000000   \n",
       "\n",
       "     identifies_payer_type  \n",
       "1         Near Homogeneous  \n",
       "2              Homogeneous  \n",
       "3            Heterogeneous  \n",
       "7         Near Homogeneous  \n",
       "11        Near Homogeneous  \n",
       "...                    ...  \n",
       "3173           Homogeneous  \n",
       "3174         Heterogeneous  \n",
       "3175         Heterogeneous  \n",
       "3176      Near Homogeneous  \n",
       "3184         Heterogeneous  \n",
       "\n",
       "[1565 rows x 16 columns]"
      ]
     },
     "execution_count": 230,
     "metadata": {},
     "output_type": "execute_result"
    }
   ],
   "source": [
    "batch[(batch[\"output_type\"] == \"success\") & (batch[\"prob\"] > 0.8)]"
   ]
  },
  {
   "cell_type": "code",
   "execution_count": 231,
   "id": "8f537dc1",
   "metadata": {},
   "outputs": [
    {
     "name": "stderr",
     "output_type": "stream",
     "text": [
      "  0%|          | 0/3197 [00:00<?, ?it/s]"
     ]
    },
    {
     "name": "stderr",
     "output_type": "stream",
     "text": [
      "100%|██████████| 3197/3197 [00:01<00:00, 2012.88it/s]\n"
     ]
    }
   ],
   "source": [
    "batch[\"biller_eval\"] = \"\"\n",
    "batch[\"payer_eval\"] = \"\"\n",
    "batch[\"biller_payer_comb_eval\"] = \"\"\n",
    "for idx in tqdm(range(len(batch))):\n",
    "    biller_true = batch[\"billerName\"].loc[idx].lower().strip()\n",
    "    payer_true = batch[\"payerName\"].iloc[idx].lower().strip()\n",
    "    biller_pred = batch[\"identified_biller\"].iloc[idx].lower().strip()\n",
    "    payer_pred = batch[\"identified_payer\"].iloc[idx].lower().strip()\n",
    "\n",
    "    batch.loc[idx, \"biller_eval\"] = biller_true == biller_pred\n",
    "    batch.loc[idx, \"payer_eval\"] = payer_true == payer_pred\n",
    "\n",
    "    batch.loc[idx, \"biller_payer_comb_eval\"] = batch[\"biller_eval\"].iloc[idx] * batch[\"payer_eval\"].iloc[idx]"
   ]
  },
  {
   "cell_type": "code",
   "execution_count": 232,
   "id": "773121d6",
   "metadata": {},
   "outputs": [
    {
     "data": {
      "text/plain": [
       "biller_payer_comb_eval\n",
       "1    1253\n",
       "0     312\n",
       "Name: count, dtype: int64"
      ]
     },
     "execution_count": 232,
     "metadata": {},
     "output_type": "execute_result"
    }
   ],
   "source": [
    "batch[(batch[\"output_type\"] == \"success\") & (batch[\"prob\"] > 0.8)][\"biller_payer_comb_eval\"].value_counts()"
   ]
  },
  {
   "cell_type": "code",
   "execution_count": 234,
   "id": "764b704e",
   "metadata": {},
   "outputs": [],
   "source": [
    "batch.to_csv(DATA_FOLDER_PATH + \"/batch_w2_full_check.csv\", index=False)"
   ]
  },
  {
   "cell_type": "code",
   "execution_count": null,
   "id": "c905ca0e",
   "metadata": {},
   "outputs": [],
   "source": [
    "check_new_payer_pattern = [\"Bae, Kim & Lee IP Group\", \"Mondial Marchi S.p.a.\", \"Dennemeyer & Company S. A. R. L.\", \"DENNEMEYER & COMPANY S.a.r.l\", \"TRADAMARCA SA\", \"Rosenthal GmbH\", \"SocietÃ  Italiana Brevetti - Billtrader\", \"HINDLES Patent and Trade Mark Attorneys\", \"Mann + Hummel GmbH\", \"Daub Patent & Law\", \"Daub Patent & Law\", \"Avek IP\", \"Chofn Intellectual Property - BeijingCN - CNY\", \"TRADAMARCA SA\", \"Nordemann Czychowski & Partner\", \"Foley & Lardner LLP - Washington\", \"Cabinet Germain & Maureau - LYON - R - USD\", \"Cabinet Germain & Maureau - LYON - R - USD\", \"Cabinet Germain & Maureau - LYON - R - USD\", \"Cabinet Germain & Maureau - LYON - R - USD\", \"Cabinet Germain & Maureau - LYON - R - USD\", \"A J Park - Auckland\", \"A J Park - Auckland\", \"Taylor Wessing\", \"Elite Gold Limited - USD\", \"Cabinet Germain & Maureau - LYON - R - USD\", \"Casalonga - Fleurus - EUR\", \"Gearhart Law LLC\", \"The Concept Law Group PA\", \"The Concept Law Group PA\", \"Munck Wilson Mandala LLP\", \"dompatent von Kreisler Selting Werner - Partnerschaft von Patentanwalten und Rechtsanwalten mbB\", \"Y.P. Lee, Mock & Partners\", \"MARKS & CLERK LLP\", \"Bell & Manning, LLC\", \"Welsh Flaxman & Gitler LLC\", \"Welsh Flaxman & Gitler LLC\", \"Welsh Flaxman & Gitler LLC\", \"Welsh Flaxman & Gitler LLC\", \"Welsh Flaxman & Gitler LLC\", \"Welsh Flaxman & Gitler LLC\", \"Sierra IP Law PC\", \"AJ PARK\", \"Tranfan Law Office Co., Ltd.\", \"HANA IP LAW FIRM\", \"Cabinet Germain & Maureau - LYON - R - USD\", \"Cabinet Germain & Maureau - LYON - R - USD\", \"Cabinet Germain & Maureau - LYON - R - USD\", \"Cabinet Germain & Maureau - LYON - R - USD\", \"Cabinet Germain & Maureau - LYON - R - USD\", \"Casalonga - Fleurus - EUR\", \"FRKelly-Waterways-Saba - USD\", \"A J Park - Wellington\", \"A J Park - Auckland\", \"A J Park - Wellington\", \"A J Park - Wellington\", \"A J Park - Wellington\", \"A J Park - Wellington\", \"Arnold & Siedsma BV - Brussels - USD\", \"Casalonga - Fleurus - EUR\", \"Spruson & Ferguson - USD\", \"Spruson & Ferguson - USD\", \"Spruson & Ferguson - USD\", \"Spruson & Ferguson - USD\", \"Spruson & Ferguson - USD\", \"Fairbairn Catley Low & Kong\", \"Fairbairn Catley Low & Kong\", \"BAE KIM & LEE IP GROUP\", \"Herrero & Asociados (EUR)\", \"Papula-Nevinpat\", \"Casalonga - Fleurus - EUR\", \"Brooks Kushman P.C.\", \"Allens Patent & Trade Mark Attorneys- Melbourne - R\", \"Allens Patent & Trade Mark Attorneys- Melbourne - R\", \"Allens Patent & Trade Mark Attorneys- Melbourne - R\", \"Allens Patent & Trade Mark Attorneys- Melbourne - R\"]\n",
    "# check_new_payer_pattern_ = [check_new_payer_pattern[i] for i in range(1, len(check_new_payer_pattern)) if check_new_payer_pattern[i-1] != check_new_payer_pattern[i]]\n",
    "# check_new_payer_pattern_.insert(0, check_new_payer_pattern[0])"
   ]
  },
  {
   "cell_type": "code",
   "execution_count": null,
   "id": "5e5bb52f",
   "metadata": {},
   "outputs": [],
   "source": [
    "avail_payer_domainname = list(payer_ct.columns)\n",
    "avail_payer_domainname.remove(\"payerType\")\n",
    "avail_payer_domainname.remove(\"All\")"
   ]
  },
  {
   "cell_type": "code",
   "execution_count": null,
   "id": "adadc1e4",
   "metadata": {},
   "outputs": [],
   "source": [
    "len(avail_payer_domainname)"
   ]
  },
  {
   "cell_type": "code",
   "execution_count": null,
   "id": "3b0453a7",
   "metadata": {},
   "outputs": [],
   "source": [
    "found_in_payer_ct = []\n",
    "for x in check_new_payer_pattern:\n",
    "    if x in avail_payer_domainname:\n",
    "        found_in_payer_ct.append(x)"
   ]
  },
  {
   "cell_type": "code",
   "execution_count": null,
   "id": "2371595b",
   "metadata": {},
   "outputs": [],
   "source": [
    "len(check_new_payer_pattern), len(found_in_payer_ct)"
   ]
  },
  {
   "cell_type": "code",
   "execution_count": null,
   "id": "da9aa7e7",
   "metadata": {},
   "outputs": [],
   "source": [
    "check = \"Cabinet Germain & Maureau - LYON - R - USD\"\n",
    "payer_idx = check_new_payer_pattern.index(check)\n",
    "non_zero_indices = np.where(payer_ct[found_in_payer_ct[payer_idx]] > 0)[0]\n",
    "payer_ct[payer_ct.index.isin(non_zero_indices)][[\"payerType\", found_in_payer_ct[payer_idx]]]"
   ]
  },
  {
   "cell_type": "code",
   "execution_count": null,
   "id": "2e97a301",
   "metadata": {},
   "outputs": [],
   "source": [
    "check_new_biller_pattern = [\"Atan Consult - BishkekKG - USD\", \"Reinhold Cohn & Partners - RC&P\", \"Reinhold Cohn & Partners - RC&P\", \"Bae, Kim & Lee IP\", \"Bae, Kim & Lee IP\", \"Keltie\", \"Cermak a spol - PrahaCZ - USD\", \"Khaitan And Co - GandhiMargMumbai - USD\", \"Eproint\", \"Eproint\", \"Eproint\", \"Eproint\", \"Eproint\", \"Zhong Lun Law Firm - Shanghai - P - USD\", \"FORRESTERS - EURO\", \"Litmus Law PLLC\", \"Troncoso Leroux\", \"Nony PARIS - EUR\", \"Troncoso Leroux\", \"Synergy Patent Group LLC - BoulderCo - USD\", \"Repertorio Design LTDA - PuertoRicoBR - USD\", \"Mirandah Asia (Singapore) Pte Ltd - USD\", \"A J Park - USD\", \"Marval O'Farrell Mairal\", \"DRZEWIECKI TOMASZEK - WarsawPL - USD\", \"Eproint\", \"Eproint\", \"Eproint\", \"Berkemeyer\", \"Berkemeyer\", \"Berkemeyer\", \"Spoor and Fisher - Sth Africa\", \"Gorodissky & Partners, Ltd - Russia\", \"Kuzuwa & Partners\", \"East IP - WanchaiHK - USD\", \"East IP - WanchaiHK - USD\", \"ROBIC IP AGENCY LP - CAD\", \"PT BIRO OKTROI ROOSSENO\", \"Pinheiro Palmer Advogados\", \"Fasken Martineau DuMoulin - Montreal\", \"BOOK CHON - SeoulKR - USD\", \"Tsai, Lee & Chen\", \"Gluck and Kritzenberger\", \"Dias Teixeira - Sao PauloBR - USD\", \"Henry Goh & Co Sdn Bhd\", \"Gluck and Kritzenberger\", \"Nascimento Advogados - SaoPauloBR - USD\", \"CAP IP Consulting\", \"Ulises Cabrera - Santo DomingoDO - USD\", \"Ulises Cabrera - Santo DomingoDO - USD\", \"Sai & Mehta - DelhiIN - USD\", \"Sai & Mehta - DelhiIN - USD\", \"Sai & Mehta - DelhiIN - USD\", \"Sai & Mehta - DelhiIN - USD\", \"Mirandah Asia International (Philippines)\", \"Jimenez Molino Y Moreno\", \"Jimenez Molino Y Moreno\", \"GOODRICH RIQUELME Y ASOCIDOS\", \"GOWLING WLG (CANADA) LLP\", \"Albright IP Limited - EUR\", \"Troncoso Leroux\", \"Shengxun Group - BeijingCN - USD\", \"Shengxun Group - BeijingCN - USD\", \"Shengxun Group - BeijingCN - USD\", \"A J Park - USD\", \"Lorenz Seidler Gossel\", \"VON WOBESER - Mexico - USD\", \"Archer & Angel - DelhiIN - USD\", \"Troncoso Leroux\", \"AMICA LAW LLC - SGD\", \"Orban Miklos Ugyvedi Iroda - EUR\", \"Mendez Cortes S.C. - Mexico - P - USD\", \"2SPL\", \"Dannemann Siemsen Bigler & Ipanema Morei\", \"Gowling WLG - Ottawa - CAD\", \"Borden Ladner Gervais LLP\", \"LEASON ELLIS IPA\", \"Thomas Melvin Patent - TaylorsvilleNC - USD\", \"Lee & Li - Leaven - BeijingCN - USD\", \"Bryn Aarflot AS - OsloNO - NOK\", \"Bryn Aarflot AS - OsloNO - NOK\", \"Forresters (Birmingham) - GBP\", \"Kaminski Harmann Patentanwalte - VaduzLI - CHF\", \"Eproint\", \"Patsnap UK\", \"Phoenix Translations - ElginTX - USD\", \"Ravindran Associates - Singapore\", \"BARLAW - Barrera and Asociados - USD\", \"FRTB S.C. - USD\", \"Chambers and Partners - LondonGB - GBP\", \"Finlayson & Singlehurst - OttawaON - USD\", \"Page White & Farrer Ltd - LondonUK - GBP\", \"Seratos Conseil Inc - BrossardQC - USD\", \"Von Seidels Intellectual Property Attorn\"]"
   ]
  },
  {
   "cell_type": "code",
   "execution_count": null,
   "id": "7a0673f2",
   "metadata": {},
   "outputs": [],
   "source": [
    "avail_biller_domainname = list(biller_ct.columns)\n",
    "avail_biller_domainname.remove(\"billerType\")\n",
    "avail_biller_domainname.remove(\"All\")"
   ]
  },
  {
   "cell_type": "code",
   "execution_count": null,
   "id": "5f27fa6e",
   "metadata": {},
   "outputs": [],
   "source": [
    "len(avail_biller_domainname)"
   ]
  },
  {
   "cell_type": "code",
   "execution_count": null,
   "id": "0b03f6cf",
   "metadata": {},
   "outputs": [],
   "source": [
    "found_in_biller_ct = []\n",
    "for x in check_new_biller_pattern:\n",
    "    if x in avail_biller_domainname:\n",
    "        found_in_biller_ct.append(x)"
   ]
  },
  {
   "cell_type": "code",
   "execution_count": null,
   "id": "a8796fcf",
   "metadata": {},
   "outputs": [],
   "source": [
    "len(check_new_biller_pattern), len(found_in_biller_ct)"
   ]
  },
  {
   "cell_type": "code",
   "execution_count": null,
   "id": "966053bb",
   "metadata": {},
   "outputs": [],
   "source": [
    "check = \"East IP - WanchaiHK - USD\"\n",
    "try:\n",
    "    biller_idx = found_in_biller_ct.index(check)\n",
    "except:\n",
    "    print(f\"{check} not in list\")\n",
    "non_zero_indices = np.where(biller_ct[found_in_biller_ct[biller_idx]] > 0)[0]\n",
    "biller_ct[biller_ct.index.isin(non_zero_indices)][[\"billerType\", found_in_biller_ct[biller_idx]]]"
   ]
  },
  {
   "cell_type": "code",
   "execution_count": 42,
   "id": "e7af89fb",
   "metadata": {},
   "outputs": [],
   "source": [
    "identified_counts = batch[(batch[\"output_type\"] == \"success\") & (batch[\"prob\"] > 0.8)].shape[0]\n",
    "error_rate = batch[(batch[\"output_type\"] == \"success\") & (batch[\"prob\"] > 0.8) & (batch[\"biller_payer_comb_eval\"] == 0)].shape[0]\n",
    "batch_size = batch.shape[0]\n",
    "metrics = {\"batch_size\": batch_size, \"identified_counts\": identified_counts, \"error_rate\": error_rate}"
   ]
  },
  {
   "cell_type": "code",
   "execution_count": 44,
   "id": "f37ac8c0",
   "metadata": {},
   "outputs": [
    {
     "name": "stdout",
     "output_type": "stream",
     "text": [
      "🏃 View run invoice_processing_test at: http://127.0.0.1:8080/#/experiments/598500546395051383/runs/53d1248f580c4c5b90abb85f28942507\n",
      "🧪 View experiment at: http://127.0.0.1:8080/#/experiments/598500546395051383\n"
     ]
    }
   ],
   "source": [
    "with mlflow.start_run(run_name=run_name) as run:\n",
    "    mlflow.log_metrics(metrics)"
   ]
  },
  {
   "cell_type": "code",
   "execution_count": null,
   "id": "3551b155",
   "metadata": {},
   "outputs": [],
   "source": [
    "# provide all probs for output == success\n",
    "# if combined prob < 0.8, look into independent probabilities for support\n",
    " "
   ]
  },
  {
   "cell_type": "code",
   "execution_count": 50,
   "id": "9511700e",
   "metadata": {},
   "outputs": [
    {
     "name": "stdout",
     "output_type": "stream",
     "text": [
      "NNNN-NNNNNN - XXX-NNNXX\n"
     ]
    },
    {
     "data": {
      "text/plain": [
       "(   Gorodissky & Partners, Ltd - Russia  Fitch Even Tobin & Flannery  \\\n",
       " 8                             0.901235                     0.042088   \n",
       " \n",
       "    Gorodissky & Partners, Ltd  Support  \n",
       " 8                     0.02862     1782  ,\n",
       "      Serio Patent & Trademark Attorneys  Rauschenbach Patent Law Group PLLC  \\\n",
       " 230                            0.272727                            0.261364   \n",
       " \n",
       "      Shobayashi International Patent & Trademark Office  \\\n",
       " 230                                              0.125    \n",
       " \n",
       "      ALNYLAM PHARMACEUTICALS INC.  Anderson Gorecki LLP  Support  \n",
       " 230                      0.102273              0.079545       88  ,\n",
       " 'NNNN-NNNNNN',\n",
       " 'XXX-NNNXX')"
      ]
     },
     "execution_count": 50,
     "metadata": {},
     "output_type": "execute_result"
    }
   ],
   "source": [
    "checkb=\"2420-581411\"; checkp=\"ALA-001RU\"\n",
    "get_top_3_combinations(checkb, checkp)"
   ]
  },
  {
   "cell_type": "code",
   "execution_count": null,
   "id": "64275158",
   "metadata": {},
   "outputs": [
    {
     "data": {
      "text/plain": [
       "0.07193350392492714"
      ]
     },
     "execution_count": 78,
     "metadata": {},
     "output_type": "execute_result"
    }
   ],
   "source": [
    "1 - H/log(3, 10)"
   ]
  },
  {
   "cell_type": "code",
   "execution_count": null,
   "id": "d1df0fd1",
   "metadata": {},
   "outputs": [],
   "source": []
  }
 ],
 "metadata": {
  "kernelspec": {
   "display_name": "Python 3",
   "language": "python",
   "name": "python3"
  },
  "language_info": {
   "codemirror_mode": {
    "name": "ipython",
    "version": 3
   },
   "file_extension": ".py",
   "mimetype": "text/x-python",
   "name": "python",
   "nbconvert_exporter": "python",
   "pygments_lexer": "ipython3",
   "version": "3.10.4"
  }
 },
 "nbformat": 4,
 "nbformat_minor": 5
}
